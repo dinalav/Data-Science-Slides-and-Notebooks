{
 "cells": [
  {
   "cell_type": "markdown",
   "metadata": {},
   "source": [
    "## Setting-up and accessing Google Cloud Platform (Big Query) via the client"
   ]
  },
  {
   "cell_type": "markdown",
   "metadata": {},
   "source": [
    "**Installing packages** \n",
    "\n",
    "* virtualenv (recomended for installing google-cloud packages) _Virtual environments help to avoid possible conflicts between different packages_\n",
    "    * https://packaging.python.org/guides/installing-using-pip-and-virtual-environments/\n",
    "    * https://janakiev.com/blog/jupyter-virtual-envs/ This article gives good instructions how to create a virtual environment with Anaconda and how to add it in your Jupyter notebook\n",
    "\n",
    "* google-cloud-bigquery \n",
    "    * https://cloud.google.com/bigquery/docs/reference/libraries \n",
    "    \n",
    "**Creating a virtual environment with Anaconda and adding it to Jupyter** \n",
    "\n",
    "1. Open Anaconda prompt\n",
    "2. _conda create -n myenv_  where myenv is any name you want to set for your virtual environment, it is stored in the envs folder in your Anaconda directory. \n",
    "3. To start working in it: _conda activate myenv_; \n",
    "    * to stop: _conda deactivate_\n",
    "    * to list all available environments: _conda env list_\n",
    "    * to remove an environment: conda env list _conda env remove -n myenv_\n",
    "4. After activating the virtual environment, you need to add it to Jupyter. First, install ipykernel which provides the IPython kernel for Jupyter _pip install --user ipykernel_\n",
    "5. This command will add the environment to Jupyter _python -m ipykernel install --user --name=myenv_\n",
    "6. You should see the following output _Installed kernelspec myenv in /home/user/.local/share/jupyter/kernels/myenv_\n",
    "7. Now you are able to choose this new environment as a kernel in Jupyter \n",
    "    * In an open notebook: Kernel --> Change Kernel --> myenv\n",
    "    * Once you remove the virtual environment, you can remove the kernel from Jupyter: _jupyter kernelspec uninstall myenv_\n",
    "8. Again from Anaconda prompt (make sure you are in the virtual environment): _pip install google-cloud-bigquery_\n",
    "\n",
    "**Setting up authentication on Google Cloud** (you can do the same using the command line)\n",
    "1. In the Cloud Console, select the relevant project and go to the Create service account key page.  https://console.cloud.google.com/apis/credentials/serviceaccountkey \n",
    "2. From the Service account list, select New service account. In the Service account name field, enter a name. From the Role list, select Project > Owner.\n",
    "3. Save the generated json file"
   ]
  },
  {
   "cell_type": "code",
   "execution_count": null,
   "metadata": {},
   "outputs": [],
   "source": []
  },
  {
   "cell_type": "code",
   "execution_count": 1,
   "metadata": {},
   "outputs": [],
   "source": [
    "# Import the packages\n",
    "import os, sys\n",
    "from google.cloud import bigquery\n",
    "import pandas as pd"
   ]
  },
  {
   "cell_type": "code",
   "execution_count": 2,
   "metadata": {},
   "outputs": [],
   "source": [
    "# Add path to your .json file with credentials\n",
    "os.environ[\"GOOGLE_APPLICATION_CREDENTIALS\"] = os.path.abspath(\"YOUR_PATH/file.json\")"
   ]
  },
  {
   "cell_type": "code",
   "execution_count": null,
   "metadata": {
    "scrolled": true
   },
   "outputs": [],
   "source": [
    "# Construct a BigQuery client object.\n",
    "client = bigquery.Client()"
   ]
  },
  {
   "cell_type": "markdown",
   "metadata": {},
   "source": [
    "Optionally you can configure settings of your query\n",
    "\n",
    "https://googleapis.dev/python/bigquery/latest/generated/google.cloud.bigquery.job.QueryJobConfig.html\n",
    "\n",
    "    settings = bigquery.QueryJobConfig(setting1=value, setting2=value, ...., )\n",
    "\n",
    "Note: dry_run = True. This setting is very useful in the beginning: instead of actually running the survey, it estimates its processing and billing costs. "
   ]
  },
  {
   "cell_type": "code",
   "execution_count": 37,
   "metadata": {},
   "outputs": [],
   "source": [
    "# Example query\n",
    "query = \"\"\"\n",
    "    SELECT name, SUM(number) as total_people\n",
    "    FROM `bigquery-public-data.usa_names.usa_1910_2013`\n",
    "    WHERE state = 'TX'\n",
    "    GROUP BY name, state\n",
    "    ORDER BY total_people DESC\n",
    "    LIMIT 10\n",
    "\"\"\""
   ]
  },
  {
   "cell_type": "code",
   "execution_count": 38,
   "metadata": {},
   "outputs": [
    {
     "name": "stdout",
     "output_type": "stream",
     "text": [
      "Total GB that will be processed:  0.110355534\n",
      "Bytes billed:  0\n"
     ]
    }
   ],
   "source": [
    "# Before actually executing the query, let's check its processing costs\n",
    "settings = bigquery.QueryJobConfig(dry_run = True) \n",
    "job = client.query(query, job_config=settings)\n",
    "print(\"Total GB that will be processed: \", job.total_bytes_processed/1000000000)\n",
    "print(\"Bytes billed: \", job.total_bytes_billed)"
   ]
  },
  {
   "cell_type": "code",
   "execution_count": 39,
   "metadata": {},
   "outputs": [
    {
     "data": {
      "text/html": [
       "<div>\n",
       "<style scoped>\n",
       "    .dataframe tbody tr th:only-of-type {\n",
       "        vertical-align: middle;\n",
       "    }\n",
       "\n",
       "    .dataframe tbody tr th {\n",
       "        vertical-align: top;\n",
       "    }\n",
       "\n",
       "    .dataframe thead th {\n",
       "        text-align: right;\n",
       "    }\n",
       "</style>\n",
       "<table border=\"1\" class=\"dataframe\">\n",
       "  <thead>\n",
       "    <tr style=\"text-align: right;\">\n",
       "      <th></th>\n",
       "      <th>name</th>\n",
       "      <th>total_people</th>\n",
       "    </tr>\n",
       "  </thead>\n",
       "  <tbody>\n",
       "    <tr>\n",
       "      <th>0</th>\n",
       "      <td>James</td>\n",
       "      <td>272793</td>\n",
       "    </tr>\n",
       "    <tr>\n",
       "      <th>1</th>\n",
       "      <td>John</td>\n",
       "      <td>235139</td>\n",
       "    </tr>\n",
       "    <tr>\n",
       "      <th>2</th>\n",
       "      <td>Michael</td>\n",
       "      <td>225320</td>\n",
       "    </tr>\n",
       "    <tr>\n",
       "      <th>3</th>\n",
       "      <td>Robert</td>\n",
       "      <td>220399</td>\n",
       "    </tr>\n",
       "    <tr>\n",
       "      <th>4</th>\n",
       "      <td>David</td>\n",
       "      <td>219028</td>\n",
       "    </tr>\n",
       "    <tr>\n",
       "      <th>5</th>\n",
       "      <td>Mary</td>\n",
       "      <td>209893</td>\n",
       "    </tr>\n",
       "    <tr>\n",
       "      <th>6</th>\n",
       "      <td>William</td>\n",
       "      <td>173092</td>\n",
       "    </tr>\n",
       "    <tr>\n",
       "      <th>7</th>\n",
       "      <td>Jose</td>\n",
       "      <td>157362</td>\n",
       "    </tr>\n",
       "    <tr>\n",
       "      <th>8</th>\n",
       "      <td>Christopher</td>\n",
       "      <td>144196</td>\n",
       "    </tr>\n",
       "    <tr>\n",
       "      <th>9</th>\n",
       "      <td>Maria</td>\n",
       "      <td>131056</td>\n",
       "    </tr>\n",
       "    <tr>\n",
       "      <th>10</th>\n",
       "      <td>Charles</td>\n",
       "      <td>126509</td>\n",
       "    </tr>\n",
       "    <tr>\n",
       "      <th>11</th>\n",
       "      <td>Daniel</td>\n",
       "      <td>117470</td>\n",
       "    </tr>\n",
       "    <tr>\n",
       "      <th>12</th>\n",
       "      <td>Richard</td>\n",
       "      <td>109888</td>\n",
       "    </tr>\n",
       "    <tr>\n",
       "      <th>13</th>\n",
       "      <td>Juan</td>\n",
       "      <td>109808</td>\n",
       "    </tr>\n",
       "    <tr>\n",
       "      <th>14</th>\n",
       "      <td>Jennifer</td>\n",
       "      <td>98696</td>\n",
       "    </tr>\n",
       "    <tr>\n",
       "      <th>15</th>\n",
       "      <td>Joshua</td>\n",
       "      <td>90679</td>\n",
       "    </tr>\n",
       "    <tr>\n",
       "      <th>16</th>\n",
       "      <td>Elizabeth</td>\n",
       "      <td>90465</td>\n",
       "    </tr>\n",
       "    <tr>\n",
       "      <th>17</th>\n",
       "      <td>Joseph</td>\n",
       "      <td>89097</td>\n",
       "    </tr>\n",
       "    <tr>\n",
       "      <th>18</th>\n",
       "      <td>Matthew</td>\n",
       "      <td>88464</td>\n",
       "    </tr>\n",
       "    <tr>\n",
       "      <th>19</th>\n",
       "      <td>Joe</td>\n",
       "      <td>87977</td>\n",
       "    </tr>\n",
       "  </tbody>\n",
       "</table>\n",
       "</div>"
      ],
      "text/plain": [
       "           name  total_people\n",
       "0         James        272793\n",
       "1          John        235139\n",
       "2       Michael        225320\n",
       "3        Robert        220399\n",
       "4         David        219028\n",
       "5          Mary        209893\n",
       "6       William        173092\n",
       "7          Jose        157362\n",
       "8   Christopher        144196\n",
       "9         Maria        131056\n",
       "10      Charles        126509\n",
       "11       Daniel        117470\n",
       "12      Richard        109888\n",
       "13         Juan        109808\n",
       "14     Jennifer         98696\n",
       "15       Joshua         90679\n",
       "16    Elizabeth         90465\n",
       "17       Joseph         89097\n",
       "18      Matthew         88464\n",
       "19          Joe         87977"
      ]
     },
     "execution_count": 39,
     "metadata": {},
     "output_type": "execute_result"
    }
   ],
   "source": [
    "# Now let's run the query and convert the results to a dataframe\n",
    "job = client.query(query)  # Make an API request\n",
    "job.to_dataframe()"
   ]
  },
  {
   "cell_type": "code",
   "execution_count": null,
   "metadata": {},
   "outputs": [],
   "source": []
  }
 ],
 "metadata": {
  "kernelspec": {
   "display_name": "geo_env",
   "language": "python",
   "name": "geo_env"
  },
  "language_info": {
   "codemirror_mode": {
    "name": "ipython",
    "version": 3
   },
   "file_extension": ".py",
   "mimetype": "text/x-python",
   "name": "python",
   "nbconvert_exporter": "python",
   "pygments_lexer": "ipython3",
   "version": "3.9.4"
  }
 },
 "nbformat": 4,
 "nbformat_minor": 2
}
