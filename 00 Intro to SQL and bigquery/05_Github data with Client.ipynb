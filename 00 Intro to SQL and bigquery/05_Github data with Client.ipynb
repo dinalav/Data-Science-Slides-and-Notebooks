{
 "cells": [
  {
   "cell_type": "markdown",
   "metadata": {},
   "source": [
    "## Setting-up and accessing Google Cloud Platform (Big Query) via the client"
   ]
  },
  {
   "cell_type": "markdown",
   "metadata": {},
   "source": [
    "**Installing packages** \n",
    "\n",
    "* virtualenv (recomended for installing google-cloud packages)\n",
    "    * https://packaging.python.org/guides/installing-using-pip-and-virtual-environments/\n",
    "    * https://janakiev.com/blog/jupyter-virtual-envs/ This article gives good instructions how to create a virtual environment with Anaconda and how to add it in your Jupyter notebook\n",
    "\n",
    "* google-cloud-bigquery \n",
    "    * https://cloud.google.com/bigquery/docs/reference/libraries \n",
    "    \n",
    "**Creating a virtual environment with Anaconda and adding it to Jupyter** \n",
    "\n",
    "1. Open Anaconda prompt\n",
    "2. _conda create -n myenv_  where myenv is any name you want to set for your virtual environment, it is stored in the envs folder in your Anaconda directory. \n",
    "3. To start working in it: _conda activate myenv_; \n",
    "    * to stop: _conda deactivate_\n",
    "    * to list all available environments: _conda env list_\n",
    "    * to remove an environment: conda env list _conda env remove -n myenv_\n",
    "4. After activating the virtual environment, you need to add it to Jupyter. First, install ipykernel which provides the IPython kernel for Jupyter _pip install --user ipykernel_\n",
    "5. This command will add the environment to Jupyter _python -m ipykernel install --user --name=myenv_\n",
    "6. You should see the following output _Installed kernelspec myenv in /home/user/.local/share/jupyter/kernels/myenv_\n",
    "7. Now you are able to choose this new environment as a kernel in Jupyter \n",
    "    * In an open notebook: Kernel --> Change Kernel --> myenv\n",
    "    * Once you remove the virtual environment, you can remove the kernel from Jupyter: _jupyter kernelspec uninstall myenv_\n",
    "8. Again from Anaconda prompt (make sure you are in the virtual environment): _pip install google-cloud-bigquery_\n",
    "\n",
    "**Setting up authentication on Google Cloud** (you can do the same using the command line)\n",
    "1. In the Cloud Console, select the relevant project and go to the Create service account key page.  https://console.cloud.google.com/apis/credentials/serviceaccountkey \n",
    "2. From the Service account list, select New service account. In the Service account name field, enter a name. From the Role list, select Project > Owner.\n",
    "3. Save the generated json file"
   ]
  },
  {
   "cell_type": "code",
   "execution_count": null,
   "metadata": {},
   "outputs": [],
   "source": []
  },
  {
   "cell_type": "code",
   "execution_count": 1,
   "metadata": {},
   "outputs": [],
   "source": [
    "# Import the packages\n",
    "import os, sys\n",
    "from google.cloud import bigquery\n",
    "import pandas as pd"
   ]
  },
  {
   "cell_type": "code",
   "execution_count": 2,
   "metadata": {},
   "outputs": [],
   "source": [
    "# Add path to your .json file with credentials\n",
    "os.environ[\"GOOGLE_APPLICATION_CREDENTIALS\"] = os.path.abspath(\"C:/Users/nadzeya/Documents/teaching/Data_science_2020_ss/lectures/platform client/client.json\")"
   ]
  },
  {
   "cell_type": "code",
   "execution_count": 3,
   "metadata": {
    "scrolled": true
   },
   "outputs": [],
   "source": [
    "# Construct a BigQuery client object.\n",
    "client = bigquery.Client()"
   ]
  },
  {
   "cell_type": "markdown",
   "metadata": {},
   "source": [
    "# Github datasets \n",
    "GitHub queries\n",
    "* https://github.blog/2017-01-19-github-data-ready-for-you-to-explore-with-bigquery/?fbclid=IwAR1E01NhM1kFZE4TM_XC6aDhkWSm2s8oCIsKXA4EcsiixnNdsBo22Kjlwho \n",
    "\n",
    "* https://github.com/fhoffa/analyzing_github/\n",
    "\n",
    "* Note: there are currently several GitHub datasets available on BigQuery\n",
    "    * GHtorrent data: ghtorrentmysql1906 - contains GHtorrent dump from June 2019\n",
    "    * GHtorrent data 2: ghtorrent-bq - GHtorrent dumps from 2017 and 2018 https://ghtorrent.org/ \n",
    "    * GitHub Activity data: bigquery-public-data:github_repos. Contains contents from 2.9M public, open source licensed repositories on GitHub. https://console.cloud.google.com/marketplace/details/github/github-repos?filter=solution-type:dataset&q=github&id=46ee22ab-2ca4-4750-81a7-3ee0f0150dcb\n",
    "    * GitHub Archive data: githubarchive Contains data on GitHub events. https://www.gharchive.org/"
   ]
  },
  {
   "cell_type": "code",
   "execution_count": 4,
   "metadata": {},
   "outputs": [],
   "source": [
    "# Summary statistics: activity of users by country codes \n",
    "# will check the share of events where we can see a users' location \n",
    "\n",
    "query = \"\"\"\n",
    "SELECT y, m, country_code, city, long, lat, type, SUM(events) as Events, COUNT(DISTINCT login) as Users\n",
    "FROM \n",
    "  (SELECT EXTRACT(YEAR FROM created_at) AS y, EXTRACT(MONTH FROM created_at) AS m, actor.login as actor_login, type, COUNT(*) AS events\n",
    "    FROM `githubarchive.month.2019*`\n",
    "    WHERE _TABLE_SUFFIX BETWEEN '10' AND '12'\n",
    "    GROUP BY y, m, actor.login, type\n",
    "    ) a\n",
    "JOIN \n",
    "  (SELECT login, country_code, city, long, lat,\n",
    "  FROM `ghtorrentmysql1906.MySQL1906.users`) b\n",
    "ON a.actor_login = b.login\n",
    "GROUP BY y, m, country_code, city, long, lat, type\n",
    "\"\"\""
   ]
  },
  {
   "cell_type": "code",
   "execution_count": 5,
   "metadata": {},
   "outputs": [],
   "source": [
    "# settings\n",
    "dry = bigquery.QueryJobConfig(dry_run = True, use_query_cache=False) \n",
    "run = bigquery.QueryJobConfig(dry_run=False, use_query_cache=True)"
   ]
  },
  {
   "cell_type": "code",
   "execution_count": 6,
   "metadata": {},
   "outputs": [
    {
     "name": "stdout",
     "output_type": "stream",
     "text": [
      "Total GB that will be processed:  6.272740366\n",
      "Bytes billed:  0\n"
     ]
    }
   ],
   "source": [
    "# check processing costs\n",
    "job = client.query(query, job_config=dry)\n",
    "print(\"Total GB that will be processed: \", job.total_bytes_processed/1000000000)\n",
    "print(\"Bytes billed: \", job.total_bytes_billed)"
   ]
  },
  {
   "cell_type": "code",
   "execution_count": 7,
   "metadata": {},
   "outputs": [
    {
     "data": {
      "text/html": [
       "<div>\n",
       "<style scoped>\n",
       "    .dataframe tbody tr th:only-of-type {\n",
       "        vertical-align: middle;\n",
       "    }\n",
       "\n",
       "    .dataframe tbody tr th {\n",
       "        vertical-align: top;\n",
       "    }\n",
       "\n",
       "    .dataframe thead th {\n",
       "        text-align: right;\n",
       "    }\n",
       "</style>\n",
       "<table border=\"1\" class=\"dataframe\">\n",
       "  <thead>\n",
       "    <tr style=\"text-align: right;\">\n",
       "      <th></th>\n",
       "      <th>y</th>\n",
       "      <th>m</th>\n",
       "      <th>country_code</th>\n",
       "      <th>city</th>\n",
       "      <th>long</th>\n",
       "      <th>lat</th>\n",
       "      <th>type</th>\n",
       "      <th>Events</th>\n",
       "      <th>Users</th>\n",
       "    </tr>\n",
       "  </thead>\n",
       "  <tbody>\n",
       "    <tr>\n",
       "      <th>0</th>\n",
       "      <td>2019</td>\n",
       "      <td>10</td>\n",
       "      <td>None</td>\n",
       "      <td>None</td>\n",
       "      <td>0.0</td>\n",
       "      <td>0.0</td>\n",
       "      <td>ForkEvent</td>\n",
       "      <td>513465</td>\n",
       "      <td>251386</td>\n",
       "    </tr>\n",
       "    <tr>\n",
       "      <th>1</th>\n",
       "      <td>2019</td>\n",
       "      <td>11</td>\n",
       "      <td>None</td>\n",
       "      <td>None</td>\n",
       "      <td>0.0</td>\n",
       "      <td>0.0</td>\n",
       "      <td>ForkEvent</td>\n",
       "      <td>468176</td>\n",
       "      <td>237888</td>\n",
       "    </tr>\n",
       "    <tr>\n",
       "      <th>2</th>\n",
       "      <td>2019</td>\n",
       "      <td>10</td>\n",
       "      <td>None</td>\n",
       "      <td>None</td>\n",
       "      <td>NaN</td>\n",
       "      <td>NaN</td>\n",
       "      <td>ForkEvent</td>\n",
       "      <td>379607</td>\n",
       "      <td>163456</td>\n",
       "    </tr>\n",
       "    <tr>\n",
       "      <th>3</th>\n",
       "      <td>2019</td>\n",
       "      <td>11</td>\n",
       "      <td>None</td>\n",
       "      <td>None</td>\n",
       "      <td>NaN</td>\n",
       "      <td>NaN</td>\n",
       "      <td>ForkEvent</td>\n",
       "      <td>313965</td>\n",
       "      <td>146971</td>\n",
       "    </tr>\n",
       "    <tr>\n",
       "      <th>4</th>\n",
       "      <td>2019</td>\n",
       "      <td>12</td>\n",
       "      <td>None</td>\n",
       "      <td>None</td>\n",
       "      <td>0.0</td>\n",
       "      <td>0.0</td>\n",
       "      <td>ForkEvent</td>\n",
       "      <td>447537</td>\n",
       "      <td>223686</td>\n",
       "    </tr>\n",
       "  </tbody>\n",
       "</table>\n",
       "</div>"
      ],
      "text/plain": [
       "      y   m country_code  city  long  lat       type  Events   Users\n",
       "0  2019  10         None  None   0.0  0.0  ForkEvent  513465  251386\n",
       "1  2019  11         None  None   0.0  0.0  ForkEvent  468176  237888\n",
       "2  2019  10         None  None   NaN  NaN  ForkEvent  379607  163456\n",
       "3  2019  11         None  None   NaN  NaN  ForkEvent  313965  146971\n",
       "4  2019  12         None  None   0.0  0.0  ForkEvent  447537  223686"
      ]
     },
     "execution_count": 7,
     "metadata": {},
     "output_type": "execute_result"
    }
   ],
   "source": [
    "# Actual job: RUN ONLY ONCE!!!!\n",
    "# Now let's run the query and convert the results to a dataframe\n",
    "job = client.query(query, job_config=run)  #comment it out if not needed to repeat\n",
    "sum_users = job.to_dataframe()  \n",
    "sum_users.head()"
   ]
  },
  {
   "cell_type": "code",
   "execution_count": 43,
   "metadata": {},
   "outputs": [
    {
     "data": {
      "text/html": [
       "<div>\n",
       "<style scoped>\n",
       "    .dataframe tbody tr th:only-of-type {\n",
       "        vertical-align: middle;\n",
       "    }\n",
       "\n",
       "    .dataframe tbody tr th {\n",
       "        vertical-align: top;\n",
       "    }\n",
       "\n",
       "    .dataframe thead th {\n",
       "        text-align: right;\n",
       "    }\n",
       "</style>\n",
       "<table border=\"1\" class=\"dataframe\">\n",
       "  <thead>\n",
       "    <tr style=\"text-align: right;\">\n",
       "      <th></th>\n",
       "      <th>Events</th>\n",
       "      <th>Users</th>\n",
       "    </tr>\n",
       "    <tr>\n",
       "      <th>country_code</th>\n",
       "      <th></th>\n",
       "      <th></th>\n",
       "    </tr>\n",
       "  </thead>\n",
       "  <tbody>\n",
       "    <tr>\n",
       "      <th>us</th>\n",
       "      <td>10360073</td>\n",
       "      <td>1022618</td>\n",
       "    </tr>\n",
       "    <tr>\n",
       "      <th>hu</th>\n",
       "      <td>2855270</td>\n",
       "      <td>14121</td>\n",
       "    </tr>\n",
       "    <tr>\n",
       "      <th>cn</th>\n",
       "      <td>2485174</td>\n",
       "      <td>336471</td>\n",
       "    </tr>\n",
       "    <tr>\n",
       "      <th>de</th>\n",
       "      <td>2264084</td>\n",
       "      <td>244765</td>\n",
       "    </tr>\n",
       "    <tr>\n",
       "      <th>gb</th>\n",
       "      <td>2066987</td>\n",
       "      <td>218785</td>\n",
       "    </tr>\n",
       "    <tr>\n",
       "      <th>...</th>\n",
       "      <td>...</td>\n",
       "      <td>...</td>\n",
       "    </tr>\n",
       "    <tr>\n",
       "      <th>ne</th>\n",
       "      <td>4</td>\n",
       "      <td>4</td>\n",
       "    </tr>\n",
       "    <tr>\n",
       "      <th>kn</th>\n",
       "      <td>2</td>\n",
       "      <td>1</td>\n",
       "    </tr>\n",
       "    <tr>\n",
       "      <th>mh</th>\n",
       "      <td>2</td>\n",
       "      <td>2</td>\n",
       "    </tr>\n",
       "    <tr>\n",
       "      <th>tv</th>\n",
       "      <td>1</td>\n",
       "      <td>1</td>\n",
       "    </tr>\n",
       "    <tr>\n",
       "      <th>ag</th>\n",
       "      <td>1</td>\n",
       "      <td>1</td>\n",
       "    </tr>\n",
       "  </tbody>\n",
       "</table>\n",
       "<p>230 rows × 2 columns</p>\n",
       "</div>"
      ],
      "text/plain": [
       "                Events    Users\n",
       "country_code                   \n",
       "us            10360073  1022618\n",
       "hu             2855270    14121\n",
       "cn             2485174   336471\n",
       "de             2264084   244765\n",
       "gb             2066987   218785\n",
       "...                ...      ...\n",
       "ne                   4        4\n",
       "kn                   2        1\n",
       "mh                   2        2\n",
       "tv                   1        1\n",
       "ag                   1        1\n",
       "\n",
       "[230 rows x 2 columns]"
      ]
     },
     "execution_count": 43,
     "metadata": {},
     "output_type": "execute_result"
    }
   ],
   "source": [
    "# cities by activity and unique users \n",
    "sum_users.groupby([\"country_code\"]).agg({\"Events\":\"sum\", \"Users\":\"sum\"}).sort_values(\"Events\", ascending = False)"
   ]
  },
  {
   "cell_type": "code",
   "execution_count": 44,
   "metadata": {},
   "outputs": [],
   "source": [
    "sum_users['country_missing'] = sum_users['country_code'].isnull()"
   ]
  },
  {
   "cell_type": "code",
   "execution_count": 46,
   "metadata": {},
   "outputs": [
    {
     "data": {
      "text/html": [
       "<div>\n",
       "<style scoped>\n",
       "    .dataframe tbody tr th:only-of-type {\n",
       "        vertical-align: middle;\n",
       "    }\n",
       "\n",
       "    .dataframe tbody tr th {\n",
       "        vertical-align: top;\n",
       "    }\n",
       "\n",
       "    .dataframe thead th {\n",
       "        text-align: right;\n",
       "    }\n",
       "</style>\n",
       "<table border=\"1\" class=\"dataframe\">\n",
       "  <thead>\n",
       "    <tr style=\"text-align: right;\">\n",
       "      <th></th>\n",
       "      <th>Events</th>\n",
       "      <th>Users</th>\n",
       "    </tr>\n",
       "    <tr>\n",
       "      <th>country_missing</th>\n",
       "      <th></th>\n",
       "      <th></th>\n",
       "    </tr>\n",
       "  </thead>\n",
       "  <tbody>\n",
       "    <tr>\n",
       "      <th>True</th>\n",
       "      <td>79356479</td>\n",
       "      <td>10418350</td>\n",
       "    </tr>\n",
       "    <tr>\n",
       "      <th>False</th>\n",
       "      <td>36661837</td>\n",
       "      <td>3920666</td>\n",
       "    </tr>\n",
       "  </tbody>\n",
       "</table>\n",
       "</div>"
      ],
      "text/plain": [
       "                   Events     Users\n",
       "country_missing                    \n",
       "True             79356479  10418350\n",
       "False            36661837   3920666"
      ]
     },
     "execution_count": 46,
     "metadata": {},
     "output_type": "execute_result"
    }
   ],
   "source": [
    "sum_users.groupby([\"country_missing\"]).agg({\"Events\":\"sum\", \"Users\":\"sum\"}).sort_values(\"Events\", ascending = False)"
   ]
  },
  {
   "cell_type": "code",
   "execution_count": 67,
   "metadata": {},
   "outputs": [
    {
     "data": {
      "text/html": [
       "<div>\n",
       "<style scoped>\n",
       "    .dataframe tbody tr th:only-of-type {\n",
       "        vertical-align: middle;\n",
       "    }\n",
       "\n",
       "    .dataframe tbody tr th {\n",
       "        vertical-align: top;\n",
       "    }\n",
       "\n",
       "    .dataframe thead th {\n",
       "        text-align: right;\n",
       "    }\n",
       "</style>\n",
       "<table border=\"1\" class=\"dataframe\">\n",
       "  <thead>\n",
       "    <tr style=\"text-align: right;\">\n",
       "      <th></th>\n",
       "      <th>Events</th>\n",
       "      <th>Users</th>\n",
       "    </tr>\n",
       "    <tr>\n",
       "      <th>country_missing</th>\n",
       "      <th></th>\n",
       "      <th></th>\n",
       "    </tr>\n",
       "  </thead>\n",
       "  <tbody>\n",
       "    <tr>\n",
       "      <th>False</th>\n",
       "      <td>0.316</td>\n",
       "      <td>0.273426</td>\n",
       "    </tr>\n",
       "    <tr>\n",
       "      <th>True</th>\n",
       "      <td>0.684</td>\n",
       "      <td>0.726574</td>\n",
       "    </tr>\n",
       "  </tbody>\n",
       "</table>\n",
       "</div>"
      ],
      "text/plain": [
       "                 Events     Users\n",
       "country_missing                  \n",
       "False             0.316  0.273426\n",
       "True              0.684  0.726574"
      ]
     },
     "execution_count": 67,
     "metadata": {},
     "output_type": "execute_result"
    }
   ],
   "source": [
    "df = sum_users.groupby([\"country_missing\"]).agg({\"Events\":\"sum\", \"Users\":\"sum\"}).apply(lambda x: x/x.sum())\n",
    "df"
   ]
  },
  {
   "cell_type": "code",
   "execution_count": 38,
   "metadata": {},
   "outputs": [],
   "source": [
    "# select top active repositories as of 2019; do the same check "
   ]
  },
  {
   "cell_type": "code",
   "execution_count": 39,
   "metadata": {},
   "outputs": [
    {
     "data": {
      "text/plain": [
       "0"
      ]
     },
     "execution_count": 39,
     "metadata": {},
     "output_type": "execute_result"
    }
   ],
   "source": [
    "# export to html if needed\n",
    "import os\n",
    "\n",
    "os.system('jupyter nbconvert --to html GH.ipynb')"
   ]
  },
  {
   "cell_type": "code",
   "execution_count": null,
   "metadata": {},
   "outputs": [],
   "source": []
  },
  {
   "cell_type": "code",
   "execution_count": null,
   "metadata": {},
   "outputs": [],
   "source": []
  }
 ],
 "metadata": {
  "kernelspec": {
   "display_name": "cloud",
   "language": "python",
   "name": "cloud"
  },
  "language_info": {
   "codemirror_mode": {
    "name": "ipython",
    "version": 3
   },
   "file_extension": ".py",
   "mimetype": "text/x-python",
   "name": "python",
   "nbconvert_exporter": "python",
   "pygments_lexer": "ipython3",
   "version": "3.7.1"
  }
 },
 "nbformat": 4,
 "nbformat_minor": 2
}
