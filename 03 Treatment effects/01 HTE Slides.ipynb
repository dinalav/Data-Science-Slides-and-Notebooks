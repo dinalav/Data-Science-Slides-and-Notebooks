{
 "cells": [
  {
   "cell_type": "markdown",
   "metadata": {
    "slideshow": {
     "slide_type": "slide"
    }
   },
   "source": [
    "# Lecture 5. Using Machine Learning for Treatment Effect Estimation\n",
    "\n",
    "by Nadzeya Laurentsyeva @ nadzeya.laurentsyeva@econ.lmu.de\n"
   ]
  },
  {
   "cell_type": "markdown",
   "metadata": {
    "slideshow": {
     "slide_type": "slide"
    }
   },
   "source": [
    "# 1. Introduction "
   ]
  },
  {
   "cell_type": "markdown",
   "metadata": {
    "slideshow": {
     "slide_type": "subslide"
    }
   },
   "source": [
    "# Tools we have covered so far \n",
    "\n",
    "### Models to work with high-dimensional inputs\n",
    "* Penalized regressions, e.g. Lasso\n",
    "* Dimension-reduction tools, e.g. LSA, LDA\n",
    "\n",
    "### Models to address nonlinearities in the data \n",
    "* CART and Random Forests \n",
    "\n",
    "### ML strength\n",
    "* Prediction "
   ]
  },
  {
   "cell_type": "markdown",
   "metadata": {
    "slideshow": {
     "slide_type": "subslide"
    }
   },
   "source": [
    "# How can these tools help economists? \n",
    "\n",
    "### Estimation of causal effects under unconfoundedness\n",
    "\n",
    "* Model selection in case of high-dimensional covariates, e.g. post-double selection Lasso, double orthogonalization with Lasso\n",
    "* Model specification for covariates, e.g. general double machine learning \n",
    "* **Estimation of treatment effects, e.g. doubly robust methods with machine learning**\n",
    "\n",
    "### Estimation of heterogenous treatment effects \n",
    "\n",
    "* **Causal trees and forests**\n",
    "\n"
   ]
  },
  {
   "cell_type": "markdown",
   "metadata": {
    "slideshow": {
     "slide_type": "subslide"
    }
   },
   "source": [
    "# How can these tools help economists? \n",
    "\n",
    "### Approaches\n",
    "* Separate prediction and causal inference tasks (e.g.  double machine learning)\n",
    "* Adapt a ML method to allow for causal inference (e.g. causal trees and forests)\n",
    "\n",
    "### Common principles \n",
    "* Cross-fitting / sub-sampling / honest estimation \n",
    "    * Use different samples for fitting the model and for estimating the parameters \n",
    "* Double orthogonalization \n",
    "* Theory-based estimator properties \n",
    "* Assumption: we observe all the relevant confounders  \n"
   ]
  },
  {
   "cell_type": "markdown",
   "metadata": {
    "slideshow": {
     "slide_type": "subslide"
    }
   },
   "source": [
    "# Overview of this lecture \n",
    "* Estimation of causal effects under unconfoundedness: treatment effects, doubly robust methods\n",
    "<br>\n",
    "\n",
    "* Estimation of heterogeneous treatment effects \n",
    "<br>\n",
    "\n",
    "* Practical part: introduction to the EconML package in Python \n",
    "https://econml.azurewebsites.net/spec/motivation.html#motivating-examples"
   ]
  },
  {
   "cell_type": "markdown",
   "metadata": {
    "slideshow": {
     "slide_type": "subslide"
    }
   },
   "source": [
    "# Link to the previous lecture on causal inference\n",
    "\n",
    "**Last time we focused on partial linear models**: \n",
    "\n",
    "$Y = D\\theta_0 + g_0(Z) + U, E[U|Z,D] = 0$\n",
    "where \n",
    "\n",
    "* $Y$ - outcome\n",
    "* $D$ - policy/treatment variable with $\\theta_0$ - the parameter of interest \n",
    "* $Z$ - (high-dimensional) vector of controls or confounders (nuisance parameters) in the sense that: \n",
    "\n",
    "$D = m_0(Z) + V, E[V|Z] = 0$\n",
    "\n",
    "We used Lasso to estimate $\\hat{m_0}(Z)$ and $\\hat{g_0}(Z)$ when $Z$ is high-dimensional, residualized $Y$ and $D$ and obtained causal $\\theta_0$. \n",
    "\n",
    "**Extensions/special cases**: \n",
    "\n",
    "* use cross-fitting to reduce bias from overfitting\n",
    "* $m_0(Z)$ and $g_0(Z)$ can be nonlinear functions $\\rightarrow$ estimate them with non-parametric methods (e.g. random forests)\n",
    "* When $D$ is categorical and $g_0(D, Z)$ - $D$ is not additvely separable: estimate ATE\n",
    "* Estimate heterogeneous treatment effects $\\theta_0(Z)$\n"
   ]
  },
  {
   "cell_type": "markdown",
   "metadata": {
    "slideshow": {
     "slide_type": "slide"
    }
   },
   "source": [
    "# 2. Estimation of treatment effects. Doubly robust methods "
   ]
  },
  {
   "cell_type": "markdown",
   "metadata": {
    "slideshow": {
     "slide_type": "subslide"
    }
   },
   "source": [
    "# 2.1 Potential outcomes framework \n",
    "\n",
    "$Y = g_0(D, Z) + U, E[U|Z,D] = 0$\n",
    "where \n",
    "\n",
    "* $Y$ - outcome\n",
    "* $D$ - binary treatment $ \\in \\{0; 1\\}$\n",
    "* $Z$ - vector of controls or confounders (nuisance parameters) \n",
    "\n",
    "Note that $D$ does not have to be additively separable. \n",
    "\n",
    "$Y_i(0)$ and $Y_i(1)$ are potential outcomes of observation $i$, such that $Y_i = Y_i(D_i)$ (SUTVA, potential outcomes respond only to own treatment status)\n",
    "\n",
    "We are interested in estimating the average treatment effect: \n",
    "\n",
    "$ ATE = E[Y_i(1) - Y_i(0)] $\n",
    "\n",
    "Challenge: we do not observe $Y_i(1)$ and $Y_i(0)$ for the same $i$, nor do we have a perfect RCT.  \n",
    "\n",
    "**Unconfoundedness assumption (selection on observables)**, Rosenbaum and Rubin (1983)\n",
    "\n",
    "* The treatment assignment is random conditional on _observables_ $Z$\n",
    "\n",
    "$[\\{Y_i(1), Y_i(0)\\} \\perp D_i] \\ |\\  Z_i$\n",
    "\n",
    "* Accounting for $Z$ is sufficient for estimating the ATE. \n"
   ]
  },
  {
   "cell_type": "markdown",
   "metadata": {
    "slideshow": {
     "slide_type": "subslide"
    }
   },
   "source": [
    "# 2.2 Regression adjustment under unconfoundedness\n",
    "\n",
    "\n",
    "Assume $[\\{Y_i(1), Y_i(0)\\} \\perp D_i] \\ |\\  Z_i$ and  $Y_i = Y_i(D_i)$\n",
    "\n",
    "\n",
    "$ ATE = $\n",
    "\n",
    "$ = E[Y_i(1)-Y_i(0)] = $\n",
    "\n",
    "$= E[E[Y_i(1)|Z_i] - E[Y_i(0)|Z_i] = $\n",
    "\n",
    "$= E[E[Y_i|Z_i, D_i = 1] - E[Y_i|Z_i, D_i = 0] =$\n",
    "\n",
    "$= E[\\mu_1(Z_i) - \\mu_0(Z_i)]$\n",
    "\n",
    "\n",
    "\n",
    "where \n",
    "$\\mu_d(z) = E[Y_i|Z_i =  z, D_i = d]$\n",
    "\n",
    "Intuition: we can create an unbiased estimate of every potential outcome by predicting it given $Z_i$ for every observation. "
   ]
  },
  {
   "cell_type": "markdown",
   "metadata": {
    "slideshow": {
     "slide_type": "subslide"
    }
   },
   "source": [
    "## Illustration of regression adjustment \n",
    "\n",
    "<img src=\"figures/ra.png\" style=\"height:350px\">"
   ]
  },
  {
   "cell_type": "markdown",
   "metadata": {
    "slideshow": {
     "slide_type": "subslide"
    }
   },
   "source": [
    "# 2.2 Regression adjustment under unconfoundedness \n",
    "\n",
    "$ATE = E[\\mu_1(Z_i) - \\mu_0(Z_i)]$\n",
    "\n",
    "**Estimation strategy**\n",
    "\n",
    "* Learn the model $\\hat{\\mu_0}(z)$ by predicting $Y$ from $Z$ on control observations\n",
    "<br>\n",
    "\n",
    "* Learn the model $\\hat{\\mu_1}(z)$ by predicting $Y$ from $Z$ on treated observations\n",
    "<br>\n",
    "\n",
    "* Estimate average treatment effect (for every observation $i$ we obtain two predictions of potential outcomes: $\\hat{Y_i}(0) = \\hat{\\mu_0}(Z_i)$ and $\\hat{Y_i}(1) = \\hat{\\mu_1}(Z_i)$)\n",
    "\n",
    "$\\hat{ATE} = \\dfrac{1}{n} \\sum_{i=1}^n(\\hat{\\mu_1}(Z_i) - \\hat{\\mu_0}(Z_i))$\n",
    "\n",
    "* $\\hat{ATE}$ is consistent if $\\hat{\\mu_d}(z)$ is consistent for $\\mu_d(z)$\n",
    "\n",
    "**Why ML?**\n",
    "\n",
    "* We can use ML methods to estimate $\\hat{\\mu_0}$ and $\\hat{\\mu_1}$ \n",
    "\n",
    "* We can expect consistency as $n \\rightarrow \\infty$\n",
    "\n",
    "* But: slow convergence, suboptimal finite sample performance "
   ]
  },
  {
   "cell_type": "markdown",
   "metadata": {
    "slideshow": {
     "slide_type": "subslide"
    }
   },
   "source": [
    "# 2.3 Propensity score (inverse probability weighting)\n",
    "\n",
    "Assume $[\\{Y_i(1), Y_i(0)\\} \\perp D_i] \\ |\\  Z_i$ and  $Y_i = Y_i(D_i)$\n",
    "\n",
    "\n",
    "$ ATE = $\n",
    "\n",
    "$ = E[Y_i(1)-Y_i(0)] = $\n",
    "\n",
    "$ = E[E(Y_i(1)|Z_i)-E(Y_i(0)|Z_i)] = $\n",
    "\n",
    "$ = E[E[\\dfrac{D_iY_i(1)}{e(Z_i)}|Z_i] - E[\\dfrac{(1-D_i)Y_i(0)}{1- e(Z_i)}|Z_i]]$ \n",
    "\n",
    "$ = E[\\dfrac{D_iY_i}{e(Z_i)} - \\dfrac{(1-D_i)Y_i}{1- e(Z_i)}]$ \n",
    "\n",
    "Intuition: we can create an unbiased estimate of every potential outcome by re-weighting each observation with the inverse probability of that observation receiving the treatment (i.e. up-weighting observations that have 'surprising' treatment status)"
   ]
  },
  {
   "cell_type": "markdown",
   "metadata": {
    "slideshow": {
     "slide_type": "subslide"
    }
   },
   "source": [
    "## Illustration of propensity score weighting \n",
    "\n",
    "<img src=\"figures/ipw.png\" style=\"height:350px\">"
   ]
  },
  {
   "cell_type": "markdown",
   "metadata": {
    "slideshow": {
     "slide_type": "subslide"
    }
   },
   "source": [
    "# 2.3 Propensity score (inverse probability weighting)\n",
    "\n",
    "$ ATE = E[\\dfrac{D_iY_i}{e(Z_i)} - \\dfrac{(1-D_i)Y_i}{1- e(Z_i)}]$ \n",
    "\n",
    "**Estimation strategy** \n",
    "\n",
    "* Learn the model $\\hat{e(z)}$ by predicting $D$ from $Z$ \n",
    "<br>\n",
    "\n",
    "* Again we can use ML methods for that, we estimate $ATE$ by reweighting each observation\n",
    "<br>\n",
    "\n",
    "$\\hat{ATE} = \\dfrac{1}{n} \\sum_{i=1}^n(\\dfrac{D_iY_i}{\\hat{e}(Z_i)} - \\dfrac{(1-D_i)Y_i}{1- \\hat{e}(Z_i)})$\n",
    "<br>\n",
    "\n",
    "* Note: we will need to satisfy _overlap_ condition: propensity scores for every observation are bounded away from 0 and 1\n",
    "\n",
    "**Again problematic** \n",
    "\n",
    "* Non-negligible errors in finite samples due to model mis-specification \n",
    "<br>\n",
    "\n",
    "* High variance of estimations due to reweighting "
   ]
  },
  {
   "cell_type": "markdown",
   "metadata": {
    "slideshow": {
     "slide_type": "subslide"
    }
   },
   "source": [
    "# 2.4 Augmented inverse probability weighting (AIPW) - doubly robust estimation of ATE \n",
    "\n",
    "### Idea dates back to Robins, Rotnitzky and Zhao (1994)\n",
    "\n",
    "We combine regression adjustment and propensity score methods\n",
    "\n",
    "* Regression adjustment: $\\mu_d(z) = E[Y_i|Z_i = z, D_i = d]$ \n",
    "<br>\n",
    "\n",
    "* Propensity score: $e(z) = P[D_i = 1|Z_i = z]$\n",
    "<br>\n",
    "\n",
    "* Estimated ATE: \n",
    "$\\hat{ATE} = \\dfrac{1}{n}\\sum_{i = 1}^n[\\color{blue}{\\hat{\\mu_1}(Z_i) - \\hat{\\mu_0}(Z_i)} + \\color{green}{\\dfrac{D_i}{\\hat{e}(Z_i)}(Y_i -\\hat{\\mu_1}(Z_i)) - \\dfrac{1-D_i}{1-\\hat{e}(Z_i)}(Y_i -\\hat{\\mu_0}(Z_i))] }$\n",
    "\n",
    "* Blue: direct regression adjutment; Green: correction (debiasing) term \n",
    "<br>\n",
    "\n",
    "* Good statistical properties, valid confidence intervals, consistent if either $\\hat{\\mu_d}(z)$ or $\\hat{e}(z)$ is consistent\n",
    "<br>\n",
    "\n",
    "* Chernozhukov et al. (2018) paper proves good statistical properties when ML methods are used to estimate $\\hat{\\mu_d}(z)$ and $\\hat{e}(z)$\n",
    "    * Specific for ML methods: the role of cross-fitting - use one sub-sample to fit $\\hat{\\mu_d}(z)$ and $\\hat{e}(z)$, use another sub-sample to compute $\\hat{ATE}$. "
   ]
  },
  {
   "cell_type": "markdown",
   "metadata": {
    "slideshow": {
     "slide_type": "subslide"
    }
   },
   "source": [
    "# 2.5 Limitations\n",
    "\n",
    "* Overlap condition is binding; variance increases when propensity scores are close to 0 or 1. \n",
    "\n",
    "* Categorical treatment\n",
    "\n",
    "Alternative: \n",
    "\n",
    "* Partially linear model with double orthogonalization \n",
    "    * $Y = D\\theta_0 + g_0(Z) + U, E[U|Z,D] = 0$ with $D = m_0(Z) + V, E[V|Z] = 0$\n",
    "    * Use ML to find $\\hat{m_0}(Z)$ and $\\hat{g_0}(Z)$\n",
    "    * But here we have another assumption: D is additively separable\n",
    "    \n",
    "Key assumption: we observe all possible confounders $Z$, if this is not the case: we can't argue about causality. "
   ]
  },
  {
   "cell_type": "markdown",
   "metadata": {
    "slideshow": {
     "slide_type": "subslide"
    }
   },
   "source": [
    "# 2.6 Implementation \n",
    "\n",
    "* Stata\n",
    "    * pdslasso - partial linear models with Lasso\n",
    "    * tetelasso - doubly robust models with Lasso\n",
    "\n",
    "* R \n",
    "    * grf package - broad range of estimators \n",
    "\n",
    "* Python \n",
    "    * Double ML package https://docs.doubleml.org/stable/index.html - partial linear models and doubly robust models (closely follows Chernozhukov et al 2018 Econometrics Journal paper)\n",
    "    * Econ ML package https://econml.azurewebsites.net/spec/flowchart.html "
   ]
  },
  {
   "cell_type": "markdown",
   "metadata": {
    "slideshow": {
     "slide_type": "subslide"
    }
   },
   "source": [
    "# 2.7 Implementation with EconML package"
   ]
  },
  {
   "cell_type": "markdown",
   "metadata": {
    "slideshow": {
     "slide_type": "subslide"
    }
   },
   "source": [
    "## Example\n",
    "\n",
    "We can illustrate the application of ML methods by estimating the treatment effect of 401(k) eligibility and participation on accumulated assets. 401(k) plans are pension accounts sponsored by employers. \n",
    "The 401(k) data set has been analyzed in several studies, among others Chernozhukov et al. (2018) Double/debiased Machine learning.\n",
    "\n",
    "Our outcome: net financial assets\n",
    "Our treatment: participation in / eligibility for 401(k) plans \n",
    "\n",
    "Issue: can we say that the treatment is exogenous? \n",
    "\n",
    "The key problem in determining the effect of participation in 401(k) plans on accumulated assets is saver heterogeneity coupled with the fact that the decision to enroll in a 401(k) is non-random. It is generally recognized that some people have a higher preference for saving than others. It also seems likely that those individuals with high unobserved preference for saving would be most likely to choose to participate in tax-advantaged retirement savings plans and would tend to have otherwise high amounts of accumulated assets. The presence of unobserved savings preferences with these properties then implies that conventional estimates that do not account for saver heterogeneity and endogeneity of participation will be biased upward, tending to overstate the savings effects of 401(k) participation.\n",
    "\n",
    "One can argue that eligibility for enrolling in a 401(k) plan in this data can be taken as exogenous after conditioning on a few observables of which the most important is income. The basic idea is that, at least around the time 401(k)’s initially became available, people were unlikely to be basing their employment decisions on whether an employer offered a 401(k) but would instead focus on income and other aspects of their job.\n",
    "\n",
    "Data source: Chernozhukov, V., Chetverikov, D., Demirer, M., Duflo, E., Hansen, C., Newey, W. and Robins, J. (2018), Double/debiased machine learning for treatment and structural parameters. The Econometrics Journal, 21: C1-C68. doi:10.1111/ectj.12097. (Supplementary data)"
   ]
  },
  {
   "cell_type": "code",
   "execution_count": 108,
   "metadata": {
    "slideshow": {
     "slide_type": "subslide"
    }
   },
   "outputs": [],
   "source": [
    "import numpy as np\n",
    "import pandas as pd\n",
    "import matplotlib.pyplot as plt\n",
    "\n",
    "from sklearn.metrics import mean_squared_error, r2_score\n",
    "from sklearn.model_selection import train_test_split\n",
    "\n",
    "import statsmodels.api as sm\n",
    "\n",
    "import warnings\n",
    "warnings.filterwarnings('ignore') # warnings will be ignored"
   ]
  },
  {
   "cell_type": "code",
   "execution_count": 109,
   "metadata": {
    "slideshow": {
     "slide_type": "subslide"
    }
   },
   "outputs": [
    {
     "data": {
      "text/html": [
       "<div>\n",
       "<style scoped>\n",
       "    .dataframe tbody tr th:only-of-type {\n",
       "        vertical-align: middle;\n",
       "    }\n",
       "\n",
       "    .dataframe tbody tr th {\n",
       "        vertical-align: top;\n",
       "    }\n",
       "\n",
       "    .dataframe thead th {\n",
       "        text-align: right;\n",
       "    }\n",
       "</style>\n",
       "<table border=\"1\" class=\"dataframe\">\n",
       "  <thead>\n",
       "    <tr style=\"text-align: right;\">\n",
       "      <th></th>\n",
       "      <th>nifa</th>\n",
       "      <th>net_tfa</th>\n",
       "      <th>tw</th>\n",
       "      <th>age</th>\n",
       "      <th>inc</th>\n",
       "      <th>fsize</th>\n",
       "      <th>educ</th>\n",
       "      <th>db</th>\n",
       "      <th>marr</th>\n",
       "      <th>twoearn</th>\n",
       "      <th>e401</th>\n",
       "      <th>p401</th>\n",
       "      <th>pira</th>\n",
       "      <th>hown</th>\n",
       "    </tr>\n",
       "  </thead>\n",
       "  <tbody>\n",
       "    <tr>\n",
       "      <th>0</th>\n",
       "      <td>0.0</td>\n",
       "      <td>0.0</td>\n",
       "      <td>4500.0</td>\n",
       "      <td>47</td>\n",
       "      <td>6765.0</td>\n",
       "      <td>2</td>\n",
       "      <td>8</td>\n",
       "      <td>0</td>\n",
       "      <td>0</td>\n",
       "      <td>0</td>\n",
       "      <td>0</td>\n",
       "      <td>0</td>\n",
       "      <td>0</td>\n",
       "      <td>1</td>\n",
       "    </tr>\n",
       "    <tr>\n",
       "      <th>1</th>\n",
       "      <td>6215.0</td>\n",
       "      <td>1015.0</td>\n",
       "      <td>22390.0</td>\n",
       "      <td>36</td>\n",
       "      <td>28452.0</td>\n",
       "      <td>1</td>\n",
       "      <td>16</td>\n",
       "      <td>0</td>\n",
       "      <td>0</td>\n",
       "      <td>0</td>\n",
       "      <td>0</td>\n",
       "      <td>0</td>\n",
       "      <td>0</td>\n",
       "      <td>1</td>\n",
       "    </tr>\n",
       "    <tr>\n",
       "      <th>2</th>\n",
       "      <td>0.0</td>\n",
       "      <td>-2000.0</td>\n",
       "      <td>-2000.0</td>\n",
       "      <td>37</td>\n",
       "      <td>3300.0</td>\n",
       "      <td>6</td>\n",
       "      <td>12</td>\n",
       "      <td>1</td>\n",
       "      <td>0</td>\n",
       "      <td>0</td>\n",
       "      <td>0</td>\n",
       "      <td>0</td>\n",
       "      <td>0</td>\n",
       "      <td>0</td>\n",
       "    </tr>\n",
       "    <tr>\n",
       "      <th>3</th>\n",
       "      <td>15000.0</td>\n",
       "      <td>15000.0</td>\n",
       "      <td>155000.0</td>\n",
       "      <td>58</td>\n",
       "      <td>52590.0</td>\n",
       "      <td>2</td>\n",
       "      <td>16</td>\n",
       "      <td>0</td>\n",
       "      <td>1</td>\n",
       "      <td>1</td>\n",
       "      <td>0</td>\n",
       "      <td>0</td>\n",
       "      <td>0</td>\n",
       "      <td>1</td>\n",
       "    </tr>\n",
       "    <tr>\n",
       "      <th>4</th>\n",
       "      <td>0.0</td>\n",
       "      <td>0.0</td>\n",
       "      <td>58000.0</td>\n",
       "      <td>32</td>\n",
       "      <td>21804.0</td>\n",
       "      <td>1</td>\n",
       "      <td>11</td>\n",
       "      <td>0</td>\n",
       "      <td>0</td>\n",
       "      <td>0</td>\n",
       "      <td>0</td>\n",
       "      <td>0</td>\n",
       "      <td>0</td>\n",
       "      <td>1</td>\n",
       "    </tr>\n",
       "  </tbody>\n",
       "</table>\n",
       "</div>"
      ],
      "text/plain": [
       "      nifa  net_tfa        tw  age      inc  fsize  educ  db  marr  twoearn  \\\n",
       "0      0.0      0.0    4500.0   47   6765.0      2     8   0     0        0   \n",
       "1   6215.0   1015.0   22390.0   36  28452.0      1    16   0     0        0   \n",
       "2      0.0  -2000.0   -2000.0   37   3300.0      6    12   1     0        0   \n",
       "3  15000.0  15000.0  155000.0   58  52590.0      2    16   0     1        1   \n",
       "4      0.0      0.0   58000.0   32  21804.0      1    11   0     0        0   \n",
       "\n",
       "   e401  p401  pira  hown  \n",
       "0     0     0     0     1  \n",
       "1     0     0     0     1  \n",
       "2     0     0     0     0  \n",
       "3     0     0     0     1  \n",
       "4     0     0     0     1  "
      ]
     },
     "execution_count": 109,
     "metadata": {},
     "output_type": "execute_result"
    }
   ],
   "source": [
    "data = pd.read_stata('data/sipp1991.dta')\n",
    "data.head()"
   ]
  },
  {
   "cell_type": "code",
   "execution_count": 110,
   "metadata": {
    "slideshow": {
     "slide_type": "subslide"
    }
   },
   "outputs": [],
   "source": [
    "# net_tfa - net financial assets - outcome \n",
    "\n",
    "# e401 - eligibility for 401k - treatment\n",
    "\n",
    "# Confounders\n",
    "# age\n",
    "# inc - income\n",
    "# fsize - family size\n",
    "# educ - years of education\n",
    "# db - defined benefit  pension status\n",
    "# twoearn - two-earner status\n",
    "# marr - marital status\n",
    "# pira - ira participation\n",
    "# hown - home ownership status \n"
   ]
  },
  {
   "cell_type": "code",
   "execution_count": 111,
   "metadata": {
    "slideshow": {
     "slide_type": "subslide"
    }
   },
   "outputs": [
    {
     "data": {
      "text/html": [
       "<table class=\"simpletable\">\n",
       "<caption>OLS Regression Results</caption>\n",
       "<tr>\n",
       "  <th>Dep. Variable:</th>         <td>net_tfa</td>     <th>  R-squared:         </th>  <td>   0.231</td>  \n",
       "</tr>\n",
       "<tr>\n",
       "  <th>Model:</th>                   <td>OLS</td>       <th>  Adj. R-squared:    </th>  <td>   0.230</td>  \n",
       "</tr>\n",
       "<tr>\n",
       "  <th>Method:</th>             <td>Least Squares</td>  <th>  F-statistic:       </th>  <td>   297.8</td>  \n",
       "</tr>\n",
       "<tr>\n",
       "  <th>Date:</th>             <td>Tue, 09 Nov 2021</td> <th>  Prob (F-statistic):</th>   <td>  0.00</td>   \n",
       "</tr>\n",
       "<tr>\n",
       "  <th>Time:</th>                 <td>19:06:22</td>     <th>  Log-Likelihood:    </th> <td>-1.2242e+05</td>\n",
       "</tr>\n",
       "<tr>\n",
       "  <th>No. Observations:</th>      <td>  9915</td>      <th>  AIC:               </th>  <td>2.449e+05</td> \n",
       "</tr>\n",
       "<tr>\n",
       "  <th>Df Residuals:</th>          <td>  9904</td>      <th>  BIC:               </th>  <td>2.449e+05</td> \n",
       "</tr>\n",
       "<tr>\n",
       "  <th>Df Model:</th>              <td>    10</td>      <th>                     </th>      <td> </td>     \n",
       "</tr>\n",
       "<tr>\n",
       "  <th>Covariance Type:</th>      <td>nonrobust</td>    <th>                     </th>      <td> </td>     \n",
       "</tr>\n",
       "</table>\n",
       "<table class=\"simpletable\">\n",
       "<tr>\n",
       "     <td></td>        <th>coef</th>     <th>std err</th>      <th>t</th>      <th>P>|t|</th>  <th>[0.025</th>    <th>0.975]</th>  \n",
       "</tr>\n",
       "<tr>\n",
       "  <th>const</th>   <td>-3.291e+04</td> <td> 4276.223</td> <td>   -7.695</td> <td> 0.000</td> <td>-4.13e+04</td> <td>-2.45e+04</td>\n",
       "</tr>\n",
       "<tr>\n",
       "  <th>e401</th>    <td> 5896.1984</td> <td> 1250.014</td> <td>    4.717</td> <td> 0.000</td> <td> 3445.917</td> <td> 8346.480</td>\n",
       "</tr>\n",
       "<tr>\n",
       "  <th>age</th>     <td>  624.1455</td> <td>   59.521</td> <td>   10.486</td> <td> 0.000</td> <td>  507.472</td> <td>  740.819</td>\n",
       "</tr>\n",
       "<tr>\n",
       "  <th>inc</th>     <td>    0.9357</td> <td>    0.030</td> <td>   30.982</td> <td> 0.000</td> <td>    0.876</td> <td>    0.995</td>\n",
       "</tr>\n",
       "<tr>\n",
       "  <th>fsize</th>   <td>-1018.7979</td> <td>  449.859</td> <td>   -2.265</td> <td> 0.024</td> <td>-1900.614</td> <td> -136.982</td>\n",
       "</tr>\n",
       "<tr>\n",
       "  <th>educ</th>    <td> -639.7538</td> <td>  228.499</td> <td>   -2.800</td> <td> 0.005</td> <td>-1087.659</td> <td> -191.848</td>\n",
       "</tr>\n",
       "<tr>\n",
       "  <th>db</th>      <td>-4904.5684</td> <td> 1359.098</td> <td>   -3.609</td> <td> 0.000</td> <td>-7568.677</td> <td>-2240.460</td>\n",
       "</tr>\n",
       "<tr>\n",
       "  <th>twoearn</th> <td>-1.923e+04</td> <td> 1576.431</td> <td>  -12.196</td> <td> 0.000</td> <td>-2.23e+04</td> <td>-1.61e+04</td>\n",
       "</tr>\n",
       "<tr>\n",
       "  <th>marr</th>    <td>  743.3445</td> <td> 1795.556</td> <td>    0.414</td> <td> 0.679</td> <td>-2776.310</td> <td> 4262.999</td>\n",
       "</tr>\n",
       "<tr>\n",
       "  <th>pira</th>    <td> 2.953e+04</td> <td> 1465.830</td> <td>   20.148</td> <td> 0.000</td> <td> 2.67e+04</td> <td> 3.24e+04</td>\n",
       "</tr>\n",
       "<tr>\n",
       "  <th>hown</th>    <td> 1185.2564</td> <td> 1323.687</td> <td>    0.895</td> <td> 0.371</td> <td>-1409.439</td> <td> 3779.952</td>\n",
       "</tr>\n",
       "</table>\n",
       "<table class=\"simpletable\">\n",
       "<tr>\n",
       "  <th>Omnibus:</th>       <td>16589.925</td> <th>  Durbin-Watson:     </th>   <td>   1.992</td>  \n",
       "</tr>\n",
       "<tr>\n",
       "  <th>Prob(Omnibus):</th>  <td> 0.000</td>   <th>  Jarque-Bera (JB):  </th> <td>19604641.129</td>\n",
       "</tr>\n",
       "<tr>\n",
       "  <th>Skew:</th>           <td>11.217</td>   <th>  Prob(JB):          </th>   <td>    0.00</td>  \n",
       "</tr>\n",
       "<tr>\n",
       "  <th>Kurtosis:</th>       <td>219.682</td>  <th>  Cond. No.          </th>   <td>3.43e+05</td>  \n",
       "</tr>\n",
       "</table><br/><br/>Notes:<br/>[1] Standard Errors assume that the covariance matrix of the errors is correctly specified.<br/>[2] The condition number is large, 3.43e+05. This might indicate that there are<br/>strong multicollinearity or other numerical problems."
      ],
      "text/plain": [
       "<class 'statsmodels.iolib.summary.Summary'>\n",
       "\"\"\"\n",
       "                            OLS Regression Results                            \n",
       "==============================================================================\n",
       "Dep. Variable:                net_tfa   R-squared:                       0.231\n",
       "Model:                            OLS   Adj. R-squared:                  0.230\n",
       "Method:                 Least Squares   F-statistic:                     297.8\n",
       "Date:                Tue, 09 Nov 2021   Prob (F-statistic):               0.00\n",
       "Time:                        19:06:22   Log-Likelihood:            -1.2242e+05\n",
       "No. Observations:                9915   AIC:                         2.449e+05\n",
       "Df Residuals:                    9904   BIC:                         2.449e+05\n",
       "Df Model:                          10                                         \n",
       "Covariance Type:            nonrobust                                         \n",
       "==============================================================================\n",
       "                 coef    std err          t      P>|t|      [0.025      0.975]\n",
       "------------------------------------------------------------------------------\n",
       "const      -3.291e+04   4276.223     -7.695      0.000   -4.13e+04   -2.45e+04\n",
       "e401        5896.1984   1250.014      4.717      0.000    3445.917    8346.480\n",
       "age          624.1455     59.521     10.486      0.000     507.472     740.819\n",
       "inc            0.9357      0.030     30.982      0.000       0.876       0.995\n",
       "fsize      -1018.7979    449.859     -2.265      0.024   -1900.614    -136.982\n",
       "educ        -639.7538    228.499     -2.800      0.005   -1087.659    -191.848\n",
       "db         -4904.5684   1359.098     -3.609      0.000   -7568.677   -2240.460\n",
       "twoearn    -1.923e+04   1576.431    -12.196      0.000   -2.23e+04   -1.61e+04\n",
       "marr         743.3445   1795.556      0.414      0.679   -2776.310    4262.999\n",
       "pira        2.953e+04   1465.830     20.148      0.000    2.67e+04    3.24e+04\n",
       "hown        1185.2564   1323.687      0.895      0.371   -1409.439    3779.952\n",
       "==============================================================================\n",
       "Omnibus:                    16589.925   Durbin-Watson:                   1.992\n",
       "Prob(Omnibus):                  0.000   Jarque-Bera (JB):         19604641.129\n",
       "Skew:                          11.217   Prob(JB):                         0.00\n",
       "Kurtosis:                     219.682   Cond. No.                     3.43e+05\n",
       "==============================================================================\n",
       "\n",
       "Notes:\n",
       "[1] Standard Errors assume that the covariance matrix of the errors is correctly specified.\n",
       "[2] The condition number is large, 3.43e+05. This might indicate that there are\n",
       "strong multicollinearity or other numerical problems.\n",
       "\"\"\""
      ]
     },
     "execution_count": 111,
     "metadata": {},
     "output_type": "execute_result"
    }
   ],
   "source": [
    "# We run a naive regression of Y on D, conditional on controls\n",
    "y = data['net_tfa'] \n",
    "X = data[['e401', 'age', 'inc', 'fsize', 'educ', 'db', 'twoearn', 'marr', 'pira', 'hown']]\n",
    "X = sm.add_constant(X)\n",
    "est = sm.OLS(y, X).fit()\n",
    "est.summary()\n",
    "\n",
    "# What are the issues with this estimation? "
   ]
  },
  {
   "cell_type": "code",
   "execution_count": 112,
   "metadata": {
    "slideshow": {
     "slide_type": "subslide"
    }
   },
   "outputs": [
    {
     "name": "stdout",
     "output_type": "stream",
     "text": [
      "[0.64851236 0.65204236 0.64750378 0.65305093 0.65859808]\n",
      "Accuracy LR: 0.65194 (+/- 0.00785)\n",
      "[0.65557237 0.67070096 0.64901664 0.65002521 0.65960666]\n",
      "Accuracy LR: 0.65698 (+/- 0.01572)\n"
     ]
    }
   ],
   "source": [
    "# Modeling propensity score \n",
    "# https://scikit-learn.org/stable/modules/linear_model.html#logistic-regression\n",
    "from sklearn.linear_model import LogisticRegression\n",
    "from sklearn.linear_model import LinearRegression\n",
    "from sklearn.model_selection import KFold, cross_val_score\n",
    "from sklearn import ensemble\n",
    "\n",
    "\n",
    "y = data['e401'] \n",
    "X = data[['age', 'inc', 'fsize', 'educ', 'db', 'twoearn', 'marr', 'pira', 'hown']]\n",
    "\n",
    "kf = KFold(n_splits=5, shuffle=True, random_state=1)\n",
    "\n",
    "# Logistic Regression\n",
    "clf = LogisticRegression(random_state=1)\n",
    "\n",
    "scores_LR = cross_val_score(clf, X, y, cv=kf)\n",
    "print(scores_LR)\n",
    "print(\"Accuracy LR: %0.5f (+/- %0.5f)\" % (scores_LR.mean(), scores_LR.std() * 2))\n",
    "\n",
    "# Forest Classifier\n",
    "rf = ensemble.RandomForestClassifier(n_estimators = 100, min_samples_leaf = 1,  oob_score = True, \\\n",
    "        random_state = 1)\n",
    "scores_RF = cross_val_score(rf, X, y, cv=kf)\n",
    "print(scores_RF)\n",
    "print(\"Accuracy LR: %0.5f (+/- %0.5f)\" % (scores_RF.mean(), scores_RF.std() * 2))\n",
    "\n",
    "# X does not have valid feature names, but RandomForestClassifier was fitted with feature names - is a bug? // doesn't affect estimations"
   ]
  },
  {
   "cell_type": "code",
   "execution_count": 113,
   "metadata": {
    "slideshow": {
     "slide_type": "subslide"
    }
   },
   "outputs": [
    {
     "data": {
      "text/html": [
       "<div>\n",
       "<style scoped>\n",
       "    .dataframe tbody tr th:only-of-type {\n",
       "        vertical-align: middle;\n",
       "    }\n",
       "\n",
       "    .dataframe tbody tr th {\n",
       "        vertical-align: top;\n",
       "    }\n",
       "\n",
       "    .dataframe thead th {\n",
       "        text-align: right;\n",
       "    }\n",
       "</style>\n",
       "<table border=\"1\" class=\"dataframe\">\n",
       "  <thead>\n",
       "    <tr style=\"text-align: right;\">\n",
       "      <th></th>\n",
       "      <th>Feature importance</th>\n",
       "      <th>Feature</th>\n",
       "    </tr>\n",
       "  </thead>\n",
       "  <tbody>\n",
       "    <tr>\n",
       "      <th>0</th>\n",
       "      <td>0.437480</td>\n",
       "      <td>inc</td>\n",
       "    </tr>\n",
       "    <tr>\n",
       "      <th>1</th>\n",
       "      <td>0.236464</td>\n",
       "      <td>age</td>\n",
       "    </tr>\n",
       "    <tr>\n",
       "      <th>2</th>\n",
       "      <td>0.114517</td>\n",
       "      <td>educ</td>\n",
       "    </tr>\n",
       "    <tr>\n",
       "      <th>3</th>\n",
       "      <td>0.083162</td>\n",
       "      <td>fsize</td>\n",
       "    </tr>\n",
       "    <tr>\n",
       "      <th>4</th>\n",
       "      <td>0.053227</td>\n",
       "      <td>db</td>\n",
       "    </tr>\n",
       "    <tr>\n",
       "      <th>5</th>\n",
       "      <td>0.022182</td>\n",
       "      <td>hown</td>\n",
       "    </tr>\n",
       "    <tr>\n",
       "      <th>6</th>\n",
       "      <td>0.021822</td>\n",
       "      <td>pira</td>\n",
       "    </tr>\n",
       "    <tr>\n",
       "      <th>7</th>\n",
       "      <td>0.017667</td>\n",
       "      <td>twoearn</td>\n",
       "    </tr>\n",
       "    <tr>\n",
       "      <th>8</th>\n",
       "      <td>0.013478</td>\n",
       "      <td>marr</td>\n",
       "    </tr>\n",
       "  </tbody>\n",
       "</table>\n",
       "</div>"
      ],
      "text/plain": [
       "   Feature importance  Feature\n",
       "0            0.437480      inc\n",
       "1            0.236464      age\n",
       "2            0.114517     educ\n",
       "3            0.083162    fsize\n",
       "4            0.053227       db\n",
       "5            0.022182     hown\n",
       "6            0.021822     pira\n",
       "7            0.017667  twoearn\n",
       "8            0.013478     marr"
      ]
     },
     "execution_count": 113,
     "metadata": {},
     "output_type": "execute_result"
    }
   ],
   "source": [
    "# we can also check feature importance for propensity to be eligible for 401k\n",
    "rf.fit(X,y)\n",
    "imp = pd.DataFrame(rf.feature_importances_, columns = ['Feature importance'])\n",
    "# some details about the implementation in sklearn https://stats.stackexchange.com/questions/311488/summing-feature-importance-in-scikit-learn-for-a-set-of-features\n",
    "imp['Feature'] = X.columns\n",
    "imp.sort_values(by=['Feature importance'], ascending=False).reset_index(drop = True)"
   ]
  },
  {
   "cell_type": "code",
   "execution_count": 114,
   "metadata": {
    "slideshow": {
     "slide_type": "subslide"
    }
   },
   "outputs": [],
   "source": [
    "# add predicted propensity scores (note we get a prediction for T = 0 and for T = 1)\n",
    "data[['rf0', 'rf1']] = pd.DataFrame(rf.predict_proba(X))\n",
    "clf.fit(X,y)\n",
    "data[['clf0', 'clf1']] = pd.DataFrame(clf.predict_proba(X))"
   ]
  },
  {
   "cell_type": "code",
   "execution_count": 115,
   "metadata": {
    "slideshow": {
     "slide_type": "subslide"
    }
   },
   "outputs": [
    {
     "data": {
      "text/plain": [
       "<matplotlib.legend.Legend at 0x1b4ccb239d0>"
      ]
     },
     "execution_count": 115,
     "metadata": {},
     "output_type": "execute_result"
    },
    {
     "data": {
      "image/png": "[encoded data removed]",
      "text/plain": [
       "<Figure size 432x288 with 1 Axes>"
      ]
     },
     "metadata": {
      "needs_background": "light"
     },
     "output_type": "display_data"
    }
   ],
   "source": [
    "# check common support \n",
    "data['clf1'].loc[data['e401']==1].hist(histtype = 'step', color = 'blue', label = 'Eligible for 401k')\n",
    "data['clf1'].loc[data['e401']==0].hist(histtype = 'step', color = 'red', label = 'Not eligble for 401k')\n",
    "plt.legend()"
   ]
  },
  {
   "cell_type": "code",
   "execution_count": 116,
   "metadata": {
    "slideshow": {
     "slide_type": "subslide"
    }
   },
   "outputs": [],
   "source": [
    "# In a similar way, we could tune regressions for potential outcomes when eligibility = 0 and when eligibility = 1\n",
    "# We could then follow the estimation strategy from above: \n",
    "# For cross-fitting\n",
    "# -divide our datasets in K folds\n",
    "# -use (K-1) folds to estimate the propensity score model and outcomes models; use left-out fold to estimate ATE according to the AIPW formula above\n",
    "# -average over K estimators of ATE\n",
    "\n",
    "# Alternatively we can use off-the-shelf packages Double ML or Econ ML"
   ]
  },
  {
   "cell_type": "markdown",
   "metadata": {
    "slideshow": {
     "slide_type": "subslide"
    }
   },
   "source": [
    "### Doubly Robust Learner from EconML Package \n",
    "\n",
    "https://econml.azurewebsites.net/reference.html#doubly-robust-dr\n",
    "\n",
    "\n",
    "**Inputs** \n",
    "* y = oucome\n",
    "* T = treatment\n",
    "* W = nuisance, confounders\n",
    "* X = when we estimate constant ATE, X can be set to None. This input will be important later for heterogenous treatment effects; it denotes which covariates to consider for heterogeneity\n",
    "\n",
    "**Key Settings econml.dr.LinearDRLearner**\n",
    "* model_propensity \n",
    "* model_regression\n",
    "* model_final\n",
    "* min_propensity\n",
    "* cv - data partititions for cross-fitting\n",
    "* mc_iters - how many times to re-run auxiliary models to reduce nuisance \n",
    "* mc_agg - how to aggregate estimates from cross-fitting\n",
    "* random_state"
   ]
  },
  {
   "cell_type": "code",
   "execution_count": 117,
   "metadata": {
    "slideshow": {
     "slide_type": "subslide"
    }
   },
   "outputs": [
    {
     "data": {
      "text/plain": [
       "<econml.dr._drlearner.DRLearner at 0x1b4cce25310>"
      ]
     },
     "execution_count": 117,
     "metadata": {},
     "output_type": "execute_result"
    }
   ],
   "source": [
    "# We start with Doubly Robust Learner from EconMl Package \n",
    "# https://econml.azurewebsites.net/reference.html#doubly-robust-dr\n",
    "from econml.dr import DRLearner, LinearDRLearner\n",
    "\n",
    "# define our data inputs\n",
    "y = data['net_tfa'] #oucome\n",
    "T = data['e401'] #treatment\n",
    "W = data[['age', 'inc', 'fsize', 'educ', 'db', 'twoearn', 'marr', 'pira', 'hown']] #nuisance, confounders\n",
    "#X = None #when we estimate ATE, X can be set to None. This will be later used for heterogenous treatment effects; It denotes which covariates to consider for heterogeneity\n",
    "\n",
    "# settings \n",
    "from sklearn.linear_model import LogisticRegression\n",
    "from sklearn import ensemble\n",
    "from econml.dr import DRLearner\n",
    "\n",
    "est = DRLearner(model_propensity=LogisticRegression(random_state = 1),\n",
    "                min_propensity = 0.05, \n",
    "                model_regression=ensemble.RandomForestRegressor(n_estimators=100, min_samples_leaf=5, random_state=1),\n",
    "                cv=5, mc_agg = 'median', random_state=1)\n",
    "est.fit(y, T, X=None, W=W)\n"
   ]
  },
  {
   "cell_type": "code",
   "execution_count": 118,
   "metadata": {
    "slideshow": {
     "slide_type": "subslide"
    }
   },
   "outputs": [
    {
     "name": "stdout",
     "output_type": "stream",
     "text": [
      "Average treatment effect:  [8138.4367164]\n"
     ]
    },
    {
     "data": {
      "text/html": [
       "<table class=\"simpletable\">\n",
       "<caption>Uncertainty of Mean Point Estimate</caption>\n",
       "<tr>\n",
       "  <th>mean_point</th> <th>stderr_mean</th> <th>zstat</th> <th>pvalue</th> <th>ci_mean_lower</th> <th>ci_mean_upper</th>\n",
       "</tr>\n",
       "<tr>\n",
       "   <td>8138.437</td>   <td>3037.674</td>   <td>2.679</td>  <td>0.007</td>   <td>2184.704</td>      <td>14092.169</td>  \n",
       "</tr>\n",
       "</table>\n",
       "<table class=\"simpletable\">\n",
       "<caption>Distribution of Point Estimate</caption>\n",
       "<tr>\n",
       "  <th>std_point</th> <th>pct_point_lower</th> <th>pct_point_upper</th>\n",
       "</tr>\n",
       "<tr>\n",
       "     <td>0.0</td>       <td>8138.437</td>        <td>8138.437</td>    \n",
       "</tr>\n",
       "</table>\n",
       "<table class=\"simpletable\">\n",
       "<caption>Total Variance of Point Estimate</caption>\n",
       "<tr>\n",
       "  <th>stderr_point</th> <th>ci_point_lower</th> <th>ci_point_upper</th>\n",
       "</tr>\n",
       "<tr>\n",
       "    <td>3037.674</td>      <td>2184.704</td>       <td>14092.169</td>  \n",
       "</tr>\n",
       "</table><br/><br/>Note: The stderr_mean is a conservative upper bound."
      ],
      "text/plain": [
       "<econml.inference._inference.PopulationSummaryResults at 0x1b4ccb946d0>"
      ]
     },
     "execution_count": 118,
     "metadata": {},
     "output_type": "execute_result"
    }
   ],
   "source": [
    "# return average treatment effect \n",
    "print('Average treatment effect: ', est.effect())\n",
    "\n",
    "# inference\n",
    "res = est.effect_inference()\n",
    "res.population_summary()"
   ]
  },
  {
   "cell_type": "markdown",
   "metadata": {
    "slideshow": {
     "slide_type": "subslide"
    }
   },
   "source": [
    "### Double Machine Learning from EconML Package\n",
    "\n",
    "**Key settings**\n",
    "* model_y\n",
    "* model_t\n",
    "* model_final\n",
    "* linear_first_stages\n",
    "* discrete_treatment \n",
    "* cv\n",
    "* mc_iters\n",
    "* mc_agg\n",
    "* random_state"
   ]
  },
  {
   "cell_type": "code",
   "execution_count": 119,
   "metadata": {
    "slideshow": {
     "slide_type": "subslide"
    }
   },
   "outputs": [
    {
     "data": {
      "text/plain": [
       "<econml.dml.dml.LinearDML at 0x1b4cc757bb0>"
      ]
     },
     "execution_count": 119,
     "metadata": {},
     "output_type": "execute_result"
    }
   ],
   "source": [
    "from econml.dml import DML, LinearDML\n",
    "est = LinearDML(model_y=ensemble.RandomForestRegressor(n_estimators=100, min_samples_leaf=5, random_state=1),\n",
    "                model_t=LogisticRegression(random_state = 1),\n",
    "                discrete_treatment = True, \n",
    "                cv=5, mc_agg='mean', random_state = 1)\n",
    "\n",
    "y = data['net_tfa'] \n",
    "T = data['e401']\n",
    "W = data[['age', 'inc', 'fsize', 'educ', 'db', 'twoearn', 'marr', 'pira', 'hown']]\n",
    "\n",
    "est.fit(y, T, X=None, W=W)"
   ]
  },
  {
   "cell_type": "code",
   "execution_count": 120,
   "metadata": {
    "slideshow": {
     "slide_type": "subslide"
    }
   },
   "outputs": [
    {
     "name": "stdout",
     "output_type": "stream",
     "text": [
      "Average treatment effect:  [8153.58250599]\n"
     ]
    },
    {
     "data": {
      "text/html": [
       "<table class=\"simpletable\">\n",
       "<caption>Uncertainty of Mean Point Estimate</caption>\n",
       "<tr>\n",
       "  <th>mean_point</th> <th>stderr_mean</th> <th>zstat</th> <th>pvalue</th> <th>ci_mean_lower</th> <th>ci_mean_upper</th>\n",
       "</tr>\n",
       "<tr>\n",
       "   <td>8153.583</td>   <td>1388.641</td>   <td>5.872</td>   <td>0.0</td>    <td>5431.896</td>      <td>10875.269</td>  \n",
       "</tr>\n",
       "</table>\n",
       "<table class=\"simpletable\">\n",
       "<caption>Distribution of Point Estimate</caption>\n",
       "<tr>\n",
       "  <th>std_point</th> <th>pct_point_lower</th> <th>pct_point_upper</th>\n",
       "</tr>\n",
       "<tr>\n",
       "     <td>0.0</td>       <td>8153.583</td>        <td>8153.583</td>    \n",
       "</tr>\n",
       "</table>\n",
       "<table class=\"simpletable\">\n",
       "<caption>Total Variance of Point Estimate</caption>\n",
       "<tr>\n",
       "  <th>stderr_point</th> <th>ci_point_lower</th> <th>ci_point_upper</th>\n",
       "</tr>\n",
       "<tr>\n",
       "    <td>1388.641</td>      <td>5431.896</td>       <td>10875.269</td>  \n",
       "</tr>\n",
       "</table>"
      ],
      "text/plain": [
       "<econml.inference._inference.PopulationSummaryResults at 0x1b4cc2cbac0>"
      ]
     },
     "execution_count": 120,
     "metadata": {},
     "output_type": "execute_result"
    }
   ],
   "source": [
    "# return average treatment effect \n",
    "print('Average treatment effect: ', est.effect())\n",
    "\n",
    "# inference\n",
    "res = est.effect_inference()\n",
    "res.population_summary()"
   ]
  },
  {
   "cell_type": "markdown",
   "metadata": {
    "slideshow": {
     "slide_type": "slide"
    }
   },
   "source": [
    "# 3. Estimation of heterogenous treatment effects "
   ]
  },
  {
   "cell_type": "markdown",
   "metadata": {
    "slideshow": {
     "slide_type": "subslide"
    }
   },
   "source": [
    "## Motivation \n",
    "\n",
    "**Treatment effect heterogeneity**\n",
    "\n",
    "Until now we were interested in Average Treatment Effects: $ATE = 𝐸[𝑌_𝑖(1)−𝑌_𝑖(0)]$\n",
    "\n",
    "In many empirical applications, we are interested in treatment effect heterogeneity and individual treatment effects $\\tau_i = Y_i(1) - Y_i(0)$. \n",
    "\n",
    "* Policy evaluation: who is benefitting from the treatment? \n",
    "* Optimal treatment assignment: how should we assign the treatment? \n",
    "\n",
    "While $\\tau_i$ is unobserved, we can average over more targeted groups and estimate conditional average treatment effects (CATE): \n",
    "\n",
    "$CATE = E[(Y_i(1)-Y_i(0))|Z_i = z]$\n",
    "\n",
    "**How do economists usually estimate heterogeneity?**\n",
    "\n",
    "**Issues with the standard approach?** \n",
    "* Observational studies\n",
    "    * Similar problems as with control selections: which dimensions of $Z$ to explore for heterogeneity? \n",
    "* RCTs\n",
    "    * Pre-analysis plans might be too restrictive "
   ]
  },
  {
   "cell_type": "markdown",
   "metadata": {
    "slideshow": {
     "slide_type": "subslide"
    }
   },
   "source": [
    "## Adjusting machine learning methods: data-driven ways to estimate heterogeneity\n",
    "\n",
    "* Athey and Imbens (2016): Causal tree and _honest_ sample-splitting\n",
    "<br>\n",
    "\n",
    "* Athey and Wager (2018): Causal forest and theory-based properties\n",
    "<br>\n",
    "\n",
    "* Athey, Tibshirani and Wager (2019): Generalized random forests, broader applications\n",
    "<br>\n",
    "\n",
    "* Chernozhukov, Demirer, Duflo, and Fernández-Val (2020 Working Paper): Generic machine learning inference on heterogeneous treatment effects"
   ]
  },
  {
   "cell_type": "markdown",
   "metadata": {
    "slideshow": {
     "slide_type": "subslide"
    }
   },
   "source": [
    "## 3.1 Problem Set-Up \n",
    "\n",
    "We focus on the simplest case: randomly assigned treatment. \n",
    "\n",
    "For individual $i$ and randomly assigned treatment $D$: \n",
    "\\begin{equation}\n",
    "Y_i = Y_i(D_i) = \\Bigg\\{ \\frac{Y_i(1), \\ if\\  D_i = 1}{Y_i(0), \\ otherwise}\n",
    "\\end{equation}\n",
    "\n",
    "We want to predict unobserved individual treatment effect $\\tau_i = Y_i(1) - Y_i(0)$\n",
    "\n",
    "Instead, we can estimate conditional average treatment effect (CATE): \n",
    "\\begin{equation}\n",
    "\\tau(z) = \\mu_1(z) - \\mu_0(z)\n",
    "\\end{equation}\n",
    "\n",
    "Where $ \\mu_d(z) = E(Y_i|D_i = d, Z_i = z)$ - expected outcome, given covariates $z$ and treatment status $d$. \n",
    "\n",
    "Main challenges: \n",
    "* How to evaluate the impurity/goodness-of-fit? The true $\\tau_i$ is unobserved. \n",
    "* How to obtain valid standard errors? "
   ]
  },
  {
   "cell_type": "markdown",
   "metadata": {
    "slideshow": {
     "slide_type": "subslide"
    }
   },
   "source": [
    "## 3.2 Transformed outcome \n",
    "\n",
    "Assume we have a 50/50 randomization, we can transform the outcome $Y_i$ in the following way: \n",
    "\\begin{equation}\n",
    "Y_i^* = \\Bigg\\{ \\dfrac{2Y_i,  \\ if \\ D_i = 1}{-2Y_i, \\ if\\  D_i = 0}\n",
    "\\end{equation}\n",
    "\n",
    "Then, we can observe that in expectation our transformation $E(Y_i^*)$ is equal to the expected treatment effect $E(\\tau_i)$: \n",
    "\n",
    "\\begin{equation}\n",
    "E(Y_i^*) = 2\\Big( \\dfrac{1}{2}E(Y_i(1)) - \\dfrac{1}{2}E(Y_i(0)) \\Big) = E(\\tau_i)\n",
    "\\end{equation}\n",
    "\n",
    "You can check that we can generalize this to the treatment with probability $p$: \n",
    "$ Y_i^* = \\dfrac{D_i - p}{p(1-p)}Y_i $\n",
    "\n",
    "In observational studies, you can use regression adjustment, propensity score or AIPW scores. \n",
    "\n",
    "Idea: using this transformation, we can treat the treatment effect as a dependent variable and use available ML tools (parameteric, functions, tree-based models, ...) to map our inputs $Z_i$ to outputs $ Y_i^*$. The result of this mapping is the prediction of $\\tau_i^*$ given $Z_i$, which is equal to the sample mean of $Y_i^*$ within each leaf. "
   ]
  },
  {
   "cell_type": "markdown",
   "metadata": {
    "slideshow": {
     "slide_type": "slide"
    }
   },
   "source": [
    "## 3.3 Athey and Imbens' Causal Tree (CT) Algorithm \n",
    "\n",
    "* Provide an extension of the CART algorithm\n",
    "* Idea: instead of choosing splits to minimize impurity (e.g. MSE), the algorithm chooses tree splits to maximize the squared difference between estimated treatment effects in each child node.\n",
    "* Intuition: identify subgroups based on covariates $Z$ that have different treatment effects\n",
    "\n",
    "<br>\n",
    "    \n",
    "* **Two contributions**\n",
    "    * Incorporate _honest estimation_ and show that criteria for both constructing the partition and cross-validation change in its anticipation\n",
    "    * Propose an alternative in-sample criterion as an _estimator_ for the infeasible in-sample goodness of fit (negative MSE) criterion. \n",
    "\n",
    "Infeasible goodness of fit: \n",
    "\\begin{equation}\n",
    "    -\\dfrac{1}{N}\\sum_{i=1}^N(\\hat{\\tau}_i - \\tau_i)\n",
    "\\end{equation}     \n",
    "\n",
    "Proposed unbiased estimator: \n",
    "\\begin{equation}\n",
    "    \\dfrac{1}{N}\\sum_{i=1}^N(\\hat{\\tau}_i^2)   \n",
    "\\end{equation} \n",
    "\n",
    "You can see full derivations here: https://scholar.princeton.edu/sites/default/files/bstewart/files/lundberg_methods_tutorial_reading_group_version.pdf\n"
   ]
  },
  {
   "cell_type": "markdown",
   "metadata": {
    "slideshow": {
     "slide_type": "slide"
    }
   },
   "source": [
    "## 3.3 Athey and Imbens' Causal Tree (CT) Algorithm \n",
    "\n",
    "    \n",
    "**Algorithm** \n",
    "* Given a training set of $(D_i, Z_i, Y_i)$ observations in node $\\eta$ of a tree, the estimated treatment effect is \n",
    "\\begin{equation}\n",
    "\\hat{\\tau}_{\\eta} = \\mu(1,\\eta) - \\mu(0,\\eta)\n",
    "\\end{equation}\n",
    "\n",
    "    where $\\mu(d,\\eta)$ is the sample mean of observations in node $\\eta$ with treatment status $d$. \n",
    "<br>\n",
    "\n",
    "\n",
    "* Given a node, the split is chosen such that the variance (heterogeneity) of treatment effects across leaves is maximized. \n",
    "\\begin{equation}\n",
    "\\sum_{k \\in left} \\hat{\\tau}_{left}^2 + \\sum_{k \\in right} \\hat{\\tau}_{right}^2\n",
    "\\end{equation}\n",
    "<br>\n",
    "\n",
    "* Splitting continues until the $optimal$ number of leaves is attained. \n",
    "    * Determined by CV or minimal cost-complexity pruning\n",
    "    \n",
    "\n"
   ]
  },
  {
   "cell_type": "markdown",
   "metadata": {
    "slideshow": {
     "slide_type": "slide"
    }
   },
   "source": [
    "##  3.3 Athey and Imbens' Causal Tree (CT) Algorithm\n",
    "\n",
    "**Adaptive vs. Honest CT Algorithms**\n",
    "\n",
    "_Adaptive algorithm_ uses the training data for both model selection (here: fitting the tree) and for estimation (here: estimating treatment effects)\n",
    "* Problem: spurious correlations between covariates and outcomes affect the selected model $\\rightarrow$ bias\n",
    "\n",
    "_Honest algorithm_ splits the training data into two parts: one to construct the tree and another one (independent) to estimate treatment effects within leaves of the tree\n",
    "* Eliminates bias but increases the variance of the estimators \n",
    "\n",
    "Athey and Imbens propose a modification to splitting and cross-validation criteria in step 1, which accounts for the estimation on an independent sample in step 2\n",
    "* Ignore systematic bias in estimation \n",
    "* Focus on the trade-off between more personalized prediction (smaller leaf size) and the variance that will arise in the second (honest estimation) step due to noisy estimation within small leaves\n",
    "    * Safe-guards against using too small leaves\n",
    "    * \"Looks for\" covariates that reduce variance in the estimates\n",
    "    * Unbiased estimates with good standard errors\n"
   ]
  },
  {
   "cell_type": "markdown",
   "metadata": {
    "slideshow": {
     "slide_type": "slide"
    }
   },
   "source": [
    "##  3.3 Athey and Imbens' Causal Tree (CT) Algorithm \n",
    "**Summary**\n",
    "\n",
    "* Important extension of a CART Algorithm\n",
    "* Relatively easy way to explore heterogeneity in the treatment effects\n",
    "* But: no personalized predictions (due to restrictions on leaf size)\n",
    "* But: as other CARTs, CTs result in unstable prediction rules. CV and pruning might be inferior to fitting a simple shallow tree. \n",
    "* But: we are likely to generate unbiased estimates with good standard errors, but no theoretical proofs for that so far\n"
   ]
  },
  {
   "cell_type": "markdown",
   "metadata": {
    "slideshow": {
     "slide_type": "slide"
    }
   },
   "source": [
    "## 3.4 Wager and Athey (2018) Estimation and Inference of Heterogeneous Treatment Effects using Random Forests\n",
    "\n",
    "**Contribution**\n",
    "* Build on Athey and Imbens (2016) and develop an algorithm for a nonparametric causal forest to estimate heterogeneous \n",
    "treatment effects \n",
    "* Use model averaging to stabilize the predicted treatment effects\n",
    "* !Do theory: show that causal forests are pointwise consistent for the true treatment effect and have\n",
    "an asymptotically Gaussian and centered sampling distribution\n",
    "* Discuss a method for constructing asymptotic confidence intervals for the true treatment effect\n",
    "* Bottomline: first set of results proving that random forests can be used for valid statistical inference\n"
   ]
  },
  {
   "cell_type": "markdown",
   "metadata": {
    "slideshow": {
     "slide_type": "slide"
    }
   },
   "source": [
    "## 3.4 Growing the forest \n",
    "\n",
    "* Based on Breiman's algorithm for bagging CARTs\n",
    "* Now: averaging over causal trees \n",
    "\n",
    "Given a training set of $\\{(D_i, Z_i, Y_i)\\}_{i=1}^n$,\n",
    "\n",
    "Tree predictor:\n",
    "\n",
    "\\begin{equation}\n",
    "\\hat{\\tau}(z) = T(z; \\{(D_i, Z_i, Y_i)\\}_{i=1}^n)\n",
    "\\end{equation} \n",
    "\n",
    "Random forest predictor: \n",
    "\n",
    "\\begin{equation}\n",
    "\\hat{\\tau}(z) = \\dfrac{1}{B} \\sum_{b=1}^B T^*_b(z; \\{(D_i, Z_i, Y_i)\\}_{i=1}^n)\n",
    "\\end{equation} \n",
    "\n",
    "Variation in fitted trees:\n",
    "* Bagging / **subsampling** the training set \n",
    "* Extra randomization "
   ]
  },
  {
   "cell_type": "markdown",
   "metadata": {
    "slideshow": {
     "slide_type": "slide"
    }
   },
   "source": [
    "## 3.4 Main theoretical result: statistical inference with random forests\n",
    "\n",
    "**Theorem**: Random forests predictors are asymptotically Gaussian and centered, given the following assumptions and technical conditions: \n",
    "\n",
    "1. _Honesty_: Individual trees are honest\n",
    "2. _Subsampling_ (not bootstrapping): Individual trees are built on random subsamples of size $s \\sim n^\\beta$ with $\\beta_0 < \\beta < 1$. Rule of thumb = 50\\%\n",
    "3. Continuous covariates $Z_i$\n",
    "4. Lipschitz response: The conditional mean function $\\mu(z) = E(Y|Z=z)$ is Lipschitz continuous"
   ]
  },
  {
   "cell_type": "markdown",
   "metadata": {
    "slideshow": {
     "slide_type": "slide"
    }
   },
   "source": [
    "## 3.4 Illustration \n",
    "\n",
    "<img src=\"figures/heat.png\" style=\"height:350px\">\n",
    "Source: Susan Athey (2018) \n"
   ]
  },
  {
   "cell_type": "markdown",
   "metadata": {
    "slideshow": {
     "slide_type": "slide"
    }
   },
   "source": [
    "# 4 Extensions and complementary work\n",
    "\n",
    "**S. Athey, J. Tibshirani and S. Wager (2019) Generalized Random Forests**\n",
    "\n",
    "The authors extend the method of random forests to more applications: estimating conditional means, quantiles, average partial effects.\n",
    "\n",
    "Key idea: use a forest to calculate a weighted set of neighbors for a given observation \n",
    "\n",
    "Applications to:\n",
    "* Instrumental variable\n",
    "* Panel regressions\n",
    "* Quantile regressions\n",
    "* Survival analysis \n",
    "\n",
    "**Chernozhukov, V., Demirer, M., Duflo, E., & Fernandez-Val, I. (2018, revised in 2020). Generic Machine Learning Inference on Heterogeneous Treatment Effects in Randomized Experiments**\n",
    "\n",
    "* Instead of targeting CATE estimation, target features (predictors) of CATE\n",
    "* Agnostic about ML methods used; applies to settings with high-dimenstional covariates \n"
   ]
  },
  {
   "cell_type": "markdown",
   "metadata": {
    "slideshow": {
     "slide_type": "slide"
    }
   },
   "source": [
    "# 5 Implementation  \n",
    "\n",
    "**R**\n",
    "* As of now, R offers probably the most developed and stable opportunities to estimate causal HTE using tree-based methods. You can see and replicate the examples from Matt Taddy's Business Data Science book (Chapter 9) here https://github.com/TaddyLab/BDS/blob/master/notebooks/jupyter-examples/Chapter%209.ipynb\n",
    "\n",
    "**Python**\n",
    "* Econ ML package https://econml.azurewebsites.net/spec/motivation.html developed by Microsoft's ALICE project looks promising. It implements estimations from recent academic works, as well as from in-house Microsoft research. In addition, to the methods covered in the lecture, the package comprises many other solutions, such as Double Machine Learning, Deep Instrumental Variables, Non-parametric Instrumental Variables, meta-learners, etc. \n"
   ]
  },
  {
   "cell_type": "markdown",
   "metadata": {
    "slideshow": {
     "slide_type": "subslide"
    }
   },
   "source": [
    "## Illustration with EconML Package "
   ]
  },
  {
   "cell_type": "code",
   "execution_count": 128,
   "metadata": {
    "slideshow": {
     "slide_type": "subslide"
    }
   },
   "outputs": [
    {
     "data": {
      "text/plain": [
       "<econml.dml.causal_forest.CausalForestDML at 0x1b4ccd631c0>"
      ]
     },
     "execution_count": 128,
     "metadata": {},
     "output_type": "execute_result"
    }
   ],
   "source": [
    "#https://econml.azurewebsites.net/_autosummary/econml.dml.CausalForestDML.html#econml.dml.CausalForestDML\n",
    "    \n",
    "from econml.dml import CausalForestDML\n",
    "\n",
    "y = data['net_tfa'] \n",
    "T = data['e401']\n",
    "W = data[['age', 'inc', 'fsize', 'educ', 'db', 'twoearn', 'marr', 'pira', 'hown']]\n",
    "X = data[['age', 'inc', 'fsize', 'educ', 'db', 'twoearn', 'marr', 'pira', 'hown']] #you can specify other dimensions of X \n",
    " \n",
    "# here we define the models for y and t (we can choose also simple Linear Regressions, Lasso, etc..)\n",
    "fit_t =ensemble.RandomForestClassifier(n_estimators = 100, min_samples_leaf = 1,  \\\n",
    "        random_state = 1)\n",
    "#fit_t = LogisticRegression(random_state = 1) \n",
    "fit_y = ensemble.RandomForestRegressor(n_estimators=100, min_samples_leaf=5, random_state=1)\n",
    "# Note, it is also possible to tune the parameters for all the fitted regressions, as well as to select a model that fits the best\n",
    "# Check the implementation here: https://github.com/microsoft/EconML/blob/master/notebooks/ForestLearners%20Basic%20Example.ipynb\n",
    "\n",
    "est = CausalForestDML(model_y= fit_y, \n",
    "                model_t=fit_t,\n",
    "                discrete_treatment=True,\n",
    "                n_estimators=100,\n",
    "                honest = True, # default\n",
    "                inference = True, \n",
    "                min_samples_leaf=20,\n",
    "                random_state = 1)\n",
    "est.fit(y, T, X=X, W=W) \n"
   ]
  },
  {
   "cell_type": "code",
   "execution_count": 129,
   "metadata": {
    "slideshow": {
     "slide_type": "slide"
    }
   },
   "outputs": [
    {
     "data": {
      "image/png": "[encoded data removed]",
      "text/plain": [
       "<Figure size 1800x720 with 1 Axes>"
      ]
     },
     "metadata": {
      "needs_background": "light"
     },
     "output_type": "display_data"
    }
   ],
   "source": [
    "# which features seem to be important \n",
    "from econml.cate_interpreter import SingleTreeCateInterpreter\n",
    "intrp = SingleTreeCateInterpreter(include_model_uncertainty=True, max_depth=4, min_samples_leaf=10)\n",
    "intrp.interpret(est, X)\n",
    "plt.figure(figsize=(25, 10))\n",
    "intrp.plot(feature_names=X.columns, fontsize=12)"
   ]
  },
  {
   "cell_type": "code",
   "execution_count": 130,
   "metadata": {
    "slideshow": {
     "slide_type": "slide"
    }
   },
   "outputs": [
    {
     "data": {
      "text/html": [
       "<div>\n",
       "<style scoped>\n",
       "    .dataframe tbody tr th:only-of-type {\n",
       "        vertical-align: middle;\n",
       "    }\n",
       "\n",
       "    .dataframe tbody tr th {\n",
       "        vertical-align: top;\n",
       "    }\n",
       "\n",
       "    .dataframe thead th {\n",
       "        text-align: right;\n",
       "    }\n",
       "</style>\n",
       "<table border=\"1\" class=\"dataframe\">\n",
       "  <thead>\n",
       "    <tr style=\"text-align: right;\">\n",
       "      <th></th>\n",
       "      <th>Feature importance</th>\n",
       "      <th>Feature</th>\n",
       "    </tr>\n",
       "  </thead>\n",
       "  <tbody>\n",
       "    <tr>\n",
       "      <th>0</th>\n",
       "      <td>0.698716</td>\n",
       "      <td>inc</td>\n",
       "    </tr>\n",
       "    <tr>\n",
       "      <th>1</th>\n",
       "      <td>0.156965</td>\n",
       "      <td>age</td>\n",
       "    </tr>\n",
       "    <tr>\n",
       "      <th>2</th>\n",
       "      <td>0.083499</td>\n",
       "      <td>educ</td>\n",
       "    </tr>\n",
       "    <tr>\n",
       "      <th>3</th>\n",
       "      <td>0.019635</td>\n",
       "      <td>pira</td>\n",
       "    </tr>\n",
       "    <tr>\n",
       "      <th>4</th>\n",
       "      <td>0.014415</td>\n",
       "      <td>fsize</td>\n",
       "    </tr>\n",
       "    <tr>\n",
       "      <th>5</th>\n",
       "      <td>0.014008</td>\n",
       "      <td>twoearn</td>\n",
       "    </tr>\n",
       "    <tr>\n",
       "      <th>6</th>\n",
       "      <td>0.007027</td>\n",
       "      <td>db</td>\n",
       "    </tr>\n",
       "    <tr>\n",
       "      <th>7</th>\n",
       "      <td>0.004765</td>\n",
       "      <td>marr</td>\n",
       "    </tr>\n",
       "    <tr>\n",
       "      <th>8</th>\n",
       "      <td>0.000971</td>\n",
       "      <td>hown</td>\n",
       "    </tr>\n",
       "  </tbody>\n",
       "</table>\n",
       "</div>"
      ],
      "text/plain": [
       "   Feature importance  Feature\n",
       "0            0.698716      inc\n",
       "1            0.156965      age\n",
       "2            0.083499     educ\n",
       "3            0.019635     pira\n",
       "4            0.014415    fsize\n",
       "5            0.014008  twoearn\n",
       "6            0.007027       db\n",
       "7            0.004765     marr\n",
       "8            0.000971     hown"
      ]
     },
     "execution_count": 130,
     "metadata": {},
     "output_type": "execute_result"
    }
   ],
   "source": [
    "# feature importance \n",
    "imp = pd.DataFrame(est.feature_importances_, columns = ['Feature importance'])\n",
    "imp['Feature'] = list(X.columns)\n",
    "imp.sort_values(by=['Feature importance'], ascending=False).reset_index(drop = True)"
   ]
  },
  {
   "cell_type": "code",
   "execution_count": 131,
   "metadata": {
    "slideshow": {
     "slide_type": "slide"
    }
   },
   "outputs": [
    {
     "data": {
      "text/html": [
       "<table class=\"simpletable\">\n",
       "<caption>Uncertainty of Mean Point Estimate</caption>\n",
       "<tr>\n",
       "  <th>mean_point</th> <th>stderr_mean</th> <th>zstat</th> <th>pvalue</th> <th>ci_mean_lower</th> <th>ci_mean_upper</th>\n",
       "</tr>\n",
       "<tr>\n",
       "   <td>8056.288</td>   <td>7178.771</td>   <td>1.122</td>  <td>0.262</td>   <td>-6013.846</td>     <td>22126.421</td>  \n",
       "</tr>\n",
       "</table>\n",
       "<table class=\"simpletable\">\n",
       "<caption>Distribution of Point Estimate</caption>\n",
       "<tr>\n",
       "  <th>std_point</th> <th>pct_point_lower</th> <th>pct_point_upper</th>\n",
       "</tr>\n",
       "<tr>\n",
       "  <td>7144.338</td>     <td>-1044.308</td>       <td>25731.177</td>   \n",
       "</tr>\n",
       "</table>\n",
       "<table class=\"simpletable\">\n",
       "<caption>Total Variance of Point Estimate</caption>\n",
       "<tr>\n",
       "  <th>stderr_point</th> <th>ci_point_lower</th> <th>ci_point_upper</th>\n",
       "</tr>\n",
       "<tr>\n",
       "    <td>10127.997</td>     <td>-4191.701</td>      <td>31033.655</td>  \n",
       "</tr>\n",
       "</table><br/><br/>Note: The stderr_mean is a conservative upper bound."
      ],
      "text/plain": [
       "<econml.inference._inference.PopulationSummaryResults at 0x1b4cc5b29d0>"
      ]
     },
     "execution_count": 131,
     "metadata": {},
     "output_type": "execute_result"
    }
   ],
   "source": [
    "# we get estimated treatment effects with 90% confidence intervals \n",
    "te_pred = est.effect(X)\n",
    "te_pred_interval = est.effect_interval(X)\n",
    "res = est.effect_inference(X)\n",
    "# you can also use est.effect_inference(X) to obtain full information (point estimate, se, pvalue, bounds)\n",
    "# about estimated treatment effects \n",
    "res.population_summary()"
   ]
  },
  {
   "cell_type": "code",
   "execution_count": 132,
   "metadata": {
    "slideshow": {
     "slide_type": "slide"
    }
   },
   "outputs": [
    {
     "data": {
      "text/plain": [
       "<AxesSubplot:>"
      ]
     },
     "execution_count": 132,
     "metadata": {},
     "output_type": "execute_result"
    },
    {
     "data": {
      "image/png": "[encoded data removed]",
      "text/plain": [
       "<Figure size 432x288 with 1 Axes>"
      ]
     },
     "metadata": {
      "needs_background": "light"
     },
     "output_type": "display_data"
    }
   ],
   "source": [
    "# some visualization\n",
    "out = data.copy()\n",
    "out['te_pred'] = te_pred\n",
    "out = out.join(pd.DataFrame(np.transpose(te_pred_interval), columns=['lb', 'ub']))\n",
    "out['te_pred'].hist()"
   ]
  },
  {
   "cell_type": "code",
   "execution_count": 133,
   "metadata": {
    "slideshow": {
     "slide_type": "slide"
    }
   },
   "outputs": [
    {
     "data": {
      "text/plain": [
       "<AxesSubplot:xlabel='inc', ylabel='te_pred'>"
      ]
     },
     "execution_count": 133,
     "metadata": {},
     "output_type": "execute_result"
    },
    {
     "data": {
      "image/png": "[encoded data removed]",
      "text/plain": [
       "<Figure size 432x288 with 1 Axes>"
      ]
     },
     "metadata": {
      "needs_background": "light"
     },
     "output_type": "display_data"
    }
   ],
   "source": [
    "out.plot.scatter(y = 'te_pred', x = 'inc',  c='DarkBlue', alpha = 0.4)"
   ]
  },
  {
   "cell_type": "markdown",
   "metadata": {
    "slideshow": {
     "slide_type": "slide"
    }
   },
   "source": [
    "# Resources \n",
    "\n",
    "S Athey, G Imbens. Recursive partitioning for heterogeneous causal effects.  Proceedings of the National Academy of Sciences 113 (27), 7353-7360, 2016.\n",
    "\n",
    "S. Wager and S. Athey. Estimation and inference of heterogeneous treatment effects using random forests. Journal of the American Statistical Association, 113(523), pp.1228-1242, 2018.\n",
    "\n",
    "S. Athey, J. Tibshirani and S. Wager. Generalized Random Forests. Annals of Statistics, 2019\n",
    "\n",
    "Chernozhukov, V., Demirer, M., Duflo, E., & Fernandez-Val, I. (2018, revised in 2020). Generic Machine Learning Inference on Heterogeneous Treatment Effects in Randomized Experiments, with an Application to Immunization in India (No. w24678). National Bureau of Economic Research.\n",
    "\n",
    "Susan Athey and Stefan Wager 2021 Stanford Short Online Course 'Machine Learning and Economics'\n",
    "https://www.youtube.com/watch?v=Z0ZcsxI-HTs&list=PLxq_lXOUlvQAoWZEqhRqHNezS30lI49G-\n",
    "In particular lectures on Average Treatment and Conditional Average Treatment Effects\n",
    "\n",
    "Susan Athey's lectures on Machine Learning (Parts 3 - 4) \n",
    "https://www-aeaweb-org.emedien.ub.uni-muenchen.de/conference/cont-ed/2018-webcasts\n",
    "\n"
   ]
  },
  {
   "cell_type": "code",
   "execution_count": null,
   "metadata": {
    "slideshow": {
     "slide_type": "-"
    }
   },
   "outputs": [],
   "source": []
  }
 ],
 "metadata": {
  "celltoolbar": "Slideshow",
  "kernelspec": {
   "display_name": "Python 3",
   "language": "python",
   "name": "python3"
  },
  "language_info": {
   "codemirror_mode": {
    "name": "ipython",
    "version": 3
   },
   "file_extension": ".py",
   "mimetype": "text/x-python",
   "name": "python",
   "nbconvert_exporter": "python",
   "pygments_lexer": "ipython3",
   "version": "3.7.1"
  }
 },
 "nbformat": 4,
 "nbformat_minor": 2
}
